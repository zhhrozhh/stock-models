{
 "cells": [
  {
   "cell_type": "code",
   "execution_count": 1,
   "metadata": {},
   "outputs": [],
   "source": [
    "from Robinhood import Robinhood\n",
    "from Portfolio import Portfolio\n",
    "from Portfolio import SIconverter\n",
    "import numpy as np"
   ]
  },
  {
   "cell_type": "code",
   "execution_count": 4,
   "metadata": {},
   "outputs": [],
   "source": [
    "w = SIconverter(\n",
    "    buffer_size = 200,\n",
    "    trader = trader,\n",
    "    load = None\n",
    ")"
   ]
  },
  {
   "cell_type": "code",
   "execution_count": 17,
   "metadata": {},
   "outputs": [],
   "source": [
    "s = w.query_S2I(\"D\")"
   ]
  },
  {
   "cell_type": "code",
   "execution_count": 21,
   "metadata": {},
   "outputs": [
    {
     "data": {
      "text/plain": [
       "-1"
      ]
     },
     "execution_count": 21,
     "metadata": {},
     "output_type": "execute_result"
    }
   ],
   "source": [
    "\"asd\".find(\"https:\")"
   ]
  },
  {
   "cell_type": "code",
   "execution_count": 15,
   "metadata": {},
   "outputs": [
    {
     "data": {
      "text/plain": [
       "{'BAC': 0.2,\n",
       " 'D': 1.0,\n",
       " 'MMM': 0.5,\n",
       " 'X': 0.3333333333333333,\n",
       " 'YRD': 0.3333333333333333}"
      ]
     },
     "execution_count": 15,
     "metadata": {},
     "output_type": "execute_result"
    }
   ],
   "source": [
    "w.freq"
   ]
  },
  {
   "cell_type": "code",
   "execution_count": 6,
   "metadata": {
    "code_folding": [
     1,
     22,
     28,
     41,
     47,
     56,
     61,
     64,
     72,
     82,
     89,
     100,
     113
    ]
   },
   "outputs": [],
   "source": [
    "class PortfolioMgr:\n",
    "    def __init__(\n",
    "        self,\n",
    "        robin_un = None,\n",
    "        robin_pd = None,\n",
    "        name = None,\n",
    "        load_from = None\n",
    "    ):\n",
    "        assert robin_un is not None\n",
    "        assert robin_pd is not None\n",
    "        assert name is not None\n",
    "        self.trader = Robinhood()\n",
    "        self.trader.login(robin_un,robin_pd)\n",
    "        self.name = name\n",
    "        self.converter = SIconverter(trader = self.trader)\n",
    "        self.unassigned_bp = float(self.trader.get_account()['margin_balances']['unallocated_margin_cash'])\n",
    "        self.unassigned_shares = {\n",
    "            self.converter(d['instrument']):int(float(d['quantity'])) for d in self.trader.securities_owned()['results']\n",
    "        }\n",
    "        self.portfolios = {}\n",
    "        \n",
    "        \n",
    "    def add_portfolio(\n",
    "        self,\n",
    "        name = None,\n",
    "        ini_bp = 0,\n",
    "        load = None,\n",
    "        cancel_count = np.inf\n",
    "    ):\n",
    "        assert name is not None\n",
    "        assert self.check_valid() == 'valid'\n",
    "        assert ini_bp < self.unassigned_bp\n",
    "        self.portfolios[name] = Portfolio(\n",
    "            trader = self.trader,\n",
    "            name = name,\n",
    "            iniFund = ini_bp,\n",
    "            cancel_count = np.inf\n",
    "        )\n",
    "        self.unassigned_bp -= ini_bp\n",
    "        \n",
    "        \n",
    "    def update_allocatable_buying_power(self):\n",
    "        allocated = 0\n",
    "        for k,p in self.portfolios.items():\n",
    "            allocated += p.bp\n",
    "        self.unassigned_bp = self.get_bp_owned() - allocated\n",
    "    \n",
    "    def update_allocatable_shares(self):\n",
    "        owned_shares = self.get_securities_owned()\n",
    "        for k,p in self.portfolios.items():\n",
    "            p.portfolio_record_lock.acquire()\n",
    "            for scode in p.portfolio_record.index:\n",
    "                owned_shares[scode] -= p.portfolio_record.loc[scode][\"SHARES\"]\n",
    "            p.portfolio_record_lock.release()\n",
    "        self.unassigned_shares = owned_shares\n",
    "    \n",
    "    def get_securities_owned(self):\n",
    "        return {\n",
    "            self.converter(d['instrument']):int(d['quantity']) for d in self.trader.securities_owned()['results']\n",
    "        }\n",
    "    \n",
    "    def get_bp_owned(self):\n",
    "        return float(self.trader.get_account()['margin_balances']['unallocated_margin_cash'])\n",
    "    \n",
    "    def add_bp_to(self,name,amount):\n",
    "        assert name in self.portfolios\n",
    "        self.update_allocatable_buying_power()\n",
    "        assert self.unassigned_bp > amount\n",
    "        self.portfolios[name].bp += amount\n",
    "        self.unassigned_bp -= amount\n",
    "        self.portfolios[name].add_trading_record(\"None\",\"None\",amount,1,\"add bp\")\n",
    "    \n",
    "    def add_shares_to(self,name,scode,amount):\n",
    "        assert name in self.portfolios\n",
    "        self.update_allocatable_shares()\n",
    "        amount = int(amount)\n",
    "        assert self.unassigned_shares[scode] > amount\n",
    "        self.portfolios[name].add_shares_from_pool(scode = scode,n = amount)\n",
    "        self.unassigned_shares[scode] -= amount\n",
    "        self.portfolios[name].add_trading_record(\"None\",scode,\"None\",amount,\"add share\")\n",
    "        \n",
    "    \n",
    "    def draw_bp_from(self,name,amount):\n",
    "        assert name in self.portfolios\n",
    "        assert self.portfolios[name].bp > amount\n",
    "        self.portfolios[name].bp -= amount\n",
    "        self.unassigned_bp += amount\n",
    "        self.portfolios[name].add_trading_record(\"None\",\"None\",amount,1,\"draw bp\")\n",
    "    \n",
    "    def draw_shares_from(self,name,scode,amount):\n",
    "        assert name in self.portfolios\n",
    "        amount = int(amount)\n",
    "        assert self.portfolios[scode].shares_owned(scode) > amount\n",
    "        self.portfolios[scode].portfolio_record_lock.acquire()\n",
    "        self.portfolios[scode].portfolio_record.loc[scode][\"SHARES\"] -= amount\n",
    "        self.portfolios[scode].portfolio_record_lock.release()\n",
    "        self.unassigned_shares[scode] += amount\n",
    "        self.portfolios[scode].add_trading_record(\"None\",scode,\"None\",amount,\"draw share\")\n",
    "        \n",
    "    \n",
    "    def transfer_bp(self,from_name,to_name,amount):\n",
    "        assert from_name in self.portfolios\n",
    "        assert to_name in self.portfolios\n",
    "        self.portfolios[from_name].transfer_buying_power(self.portfolios[to_name],amount)\n",
    "        \n",
    "        \n",
    "        \n",
    "    def transfer_shares(self,from_name,to_name,scode,amount):\n",
    "        assert from_name in self.portfolios\n",
    "        assert to_name in self.portfolios\n",
    "        self.portfolios[from_name].transfer_shares(self.portfolios[to_name],scode,amount)\n",
    "        \n",
    "        \n",
    "    def check_valid(self):\n",
    "        allocated_bp = 0\n",
    "        allocated_shares = {}\n",
    "        for k,p in self.portfolios.items():\n",
    "            allocated_bp += p.bp\n",
    "            p.portfolio_record_lock.acquire()\n",
    "            for scode in p.portfolio_record.index:\n",
    "                try:\n",
    "                    allocated_shares[index] += p.portfolio_record.loc[scode]['SHARES']\n",
    "                except:\n",
    "                    allocated_shares[index] = p.portfolio_record.loc[scode]['SHARES']\n",
    "            p.portfolio_record_lock.release()\n",
    "        if allocated_bp + self.unassigned_bp > self.get_bp_owned():\n",
    "            return \"bp invalid\"\n",
    "        total_shares = self.get_securities_owned()\n",
    "        for scode in total_shares.keys():\n",
    "            if scode not in allocated_shares:\n",
    "                alls = 0\n",
    "            else:\n",
    "                alls = allocated_shares[scode]\n",
    "            if scode not in self.unassigned_shares:\n",
    "                unas = 0\n",
    "            else:\n",
    "                unas = self.unassigned_shares[scode]\n",
    "            if alls + unas > total_shares[scode]:\n",
    "                return \"scode {} invalid\".format(scode)\n",
    "        return \"valid\"\n",
    "            \n",
    "            \n",
    "            \n",
    "            \n",
    "            \n",
    "        \n",
    "        "
   ]
  },
  {
   "cell_type": "code",
   "execution_count": 7,
   "metadata": {},
   "outputs": [],
   "source": [
    "a = PortfolioMgr('hang2','zhhISbest2',\"Default\")"
   ]
  },
  {
   "cell_type": "code",
   "execution_count": 56,
   "metadata": {},
   "outputs": [
    {
     "ename": "ValueError",
     "evalue": "invalid literal for int() with base 10: '27.00'",
     "output_type": "error",
     "traceback": [
      "\u001b[0;31m---------------------------------------------------------------------------\u001b[0m",
      "\u001b[0;31mValueError\u001b[0m                                Traceback (most recent call last)",
      "\u001b[0;32m<ipython-input-56-4f09e9ea1c44>\u001b[0m in \u001b[0;36m<module>\u001b[0;34m()\u001b[0m\n\u001b[0;32m----> 1\u001b[0;31m \u001b[0mint\u001b[0m\u001b[0;34m(\u001b[0m\u001b[0;34m'27.00'\u001b[0m\u001b[0;34m)\u001b[0m\u001b[0;34m\u001b[0m\u001b[0m\n\u001b[0m",
      "\u001b[0;31mValueError\u001b[0m: invalid literal for int() with base 10: '27.00'"
     ]
    }
   ],
   "source": [
    "int('27.00')"
   ]
  },
  {
   "cell_type": "code",
   "execution_count": 2,
   "metadata": {
    "collapsed": true
   },
   "outputs": [],
   "source": [
    "trader = Robinhood()"
   ]
  },
  {
   "cell_type": "code",
   "execution_count": 52,
   "metadata": {},
   "outputs": [
    {
     "data": {
      "text/plain": [
       "True"
      ]
     },
     "execution_count": 52,
     "metadata": {},
     "output_type": "execute_result"
    }
   ],
   "source": [
    "trader.login('hang2','zhhISbest2')"
   ]
  },
  {
   "cell_type": "code",
   "execution_count": 9,
   "metadata": {
    "collapsed": true
   },
   "outputs": [],
   "source": [
    "t2 = Robinhood()"
   ]
  },
  {
   "cell_type": "code",
   "execution_count": 10,
   "metadata": {},
   "outputs": [
    {
     "data": {
      "text/plain": [
       "True"
      ]
     },
     "execution_count": 10,
     "metadata": {},
     "output_type": "execute_result"
    }
   ],
   "source": [
    "t2.login('hang2','zhhISbest2')"
   ]
  },
  {
   "cell_type": "code",
   "execution_count": 41,
   "metadata": {
    "collapsed": true
   },
   "outputs": [],
   "source": [
    "t3 = Robinhood()"
   ]
  },
  {
   "cell_type": "code",
   "execution_count": 51,
   "metadata": {},
   "outputs": [
    {
     "data": {
      "text/plain": [
       "<Response [200]>"
      ]
     },
     "execution_count": 51,
     "metadata": {},
     "output_type": "execute_result"
    }
   ],
   "source": [
    "trader.logout()"
   ]
  },
  {
   "cell_type": "code",
   "execution_count": 15,
   "metadata": {},
   "outputs": [
    {
     "data": {
      "text/plain": [
       "'YRD'"
      ]
     },
     "execution_count": 15,
     "metadata": {},
     "output_type": "execute_result"
    }
   ],
   "source": [
    "trader.session.get('https://api.robinhood.com/instruments/78bde958-d99c-40a8-90c5-904fd466977a/').json()['symbol']"
   ]
  },
  {
   "cell_type": "code",
   "execution_count": 28,
   "metadata": {
    "collapsed": true
   },
   "outputs": [],
   "source": [
    "d = {1:4,3:0}"
   ]
  },
  {
   "cell_type": "code",
   "execution_count": 32,
   "metadata": {},
   "outputs": [
    {
     "data": {
      "text/plain": [
       "1"
      ]
     },
     "execution_count": 32,
     "metadata": {},
     "output_type": "execute_result"
    }
   ],
   "source": [
    "max(d,key = d.get)"
   ]
  },
  {
   "cell_type": "code",
   "execution_count": 20,
   "metadata": {},
   "outputs": [
    {
     "data": {
      "text/plain": [
       "{'bloomberg_unique': 'EQ0000000046314223',\n",
       " 'country': 'CN',\n",
       " 'day_trade_ratio': '0.2500',\n",
       " 'fundamentals': 'https://api.robinhood.com/fundamentals/YRD/',\n",
       " 'id': '78bde958-d99c-40a8-90c5-904fd466977a',\n",
       " 'list_date': '2015-12-18',\n",
       " 'maintenance_ratio': '0.4500',\n",
       " 'margin_initial_ratio': '0.5600',\n",
       " 'market': 'https://api.robinhood.com/markets/XNYS/',\n",
       " 'min_tick_size': None,\n",
       " 'name': 'Yirendai Ltd.',\n",
       " 'quote': 'https://api.robinhood.com/quotes/YRD/',\n",
       " 'simple_name': 'Yirendai',\n",
       " 'splits': 'https://api.robinhood.com/instruments/78bde958-d99c-40a8-90c5-904fd466977a/splits/',\n",
       " 'state': 'active',\n",
       " 'symbol': 'YRD',\n",
       " 'tradability': 'tradable',\n",
       " 'tradeable': True,\n",
       " 'type': 'adr',\n",
       " 'url': 'https://api.robinhood.com/instruments/78bde958-d99c-40a8-90c5-904fd466977a/'}"
      ]
     },
     "execution_count": 20,
     "metadata": {},
     "output_type": "execute_result"
    }
   ],
   "source": [
    "(trader.instruments('YRD')[0])"
   ]
  },
  {
   "cell_type": "code",
   "execution_count": 23,
   "metadata": {},
   "outputs": [
    {
     "ename": "AssertionError",
     "evalue": "",
     "output_type": "error",
     "traceback": [
      "\u001b[0;31m---------------------------------------------------------------------------\u001b[0m",
      "\u001b[0;31mAssertionError\u001b[0m                            Traceback (most recent call last)",
      "\u001b[0;32m<ipython-input-23-6e6df518a476>\u001b[0m in \u001b[0;36m<module>\u001b[0;34m()\u001b[0m\n\u001b[0;32m----> 1\u001b[0;31m \u001b[0;32massert\u001b[0m \u001b[0;32mFalse\u001b[0m\u001b[0;34m\u001b[0m\u001b[0m\n\u001b[0m",
      "\u001b[0;31mAssertionError\u001b[0m: "
     ]
    }
   ],
   "source": [
    "assert False"
   ]
  }
 ],
 "metadata": {
  "kernelspec": {
   "display_name": "Python 3",
   "language": "python",
   "name": "python3"
  },
  "language_info": {
   "codemirror_mode": {
    "name": "ipython",
    "version": 3
   },
   "file_extension": ".py",
   "mimetype": "text/x-python",
   "name": "python",
   "nbconvert_exporter": "python",
   "pygments_lexer": "ipython3",
   "version": "3.6.1"
  }
 },
 "nbformat": 4,
 "nbformat_minor": 2
}
