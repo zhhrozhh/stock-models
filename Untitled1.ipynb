{
 "cells": [
  {
   "cell_type": "code",
   "execution_count": 1,
   "metadata": {
    "collapsed": true
   },
   "outputs": [],
   "source": [
    "from FE import *\n",
    "from DP import DataLoader"
   ]
  },
  {
   "cell_type": "code",
   "execution_count": 11,
   "metadata": {},
   "outputs": [
    {
     "name": "stdout",
     "output_type": "stream",
     "text": [
      "data downloaded\n",
      "op mean... done\n",
      "cl mean... done\n",
      "hi max... done\n",
      "lo min... done\n",
      "vl mean... done\n",
      "wr... done\n",
      "rsi... done\n",
      "vortex... done\n",
      "boll... done\n",
      "risk... done\n",
      "skew... done\n",
      "kurt... done\n",
      "dma... done\n",
      "kd... done\n"
     ]
    }
   ],
   "source": [
    "a = FE(scode = \"FFBC\",par_max = 400,strides = 8)\n",
    "a.generate()\n",
    "a.save()"
   ]
  },
  {
   "cell_type": "code",
   "execution_count": 17,
   "metadata": {},
   "outputs": [
    {
     "data": {
      "text/plain": [
       "<function pandas.core.frame.DataFrame.kurt>"
      ]
     },
     "execution_count": 17,
     "metadata": {},
     "output_type": "execute_result"
    }
   ],
   "source": [
    "ZIOP YRD FFBC BMRC RH ARCH W NYT BABA BA MMM"
   ]
  },
  {
   "cell_type": "code",
   "execution_count": 2,
   "metadata": {
    "collapsed": true
   },
   "outputs": [],
   "source": [
    "import pandas as pd\n",
    "import numpy as np"
   ]
  },
  {
   "cell_type": "code",
   "execution_count": 2,
   "metadata": {},
   "outputs": [],
   "source": [
    "x = DataLoader(data_name=\"ZIOP400_8_\",mode='reg',p_day=20,train_prob=1)"
   ]
  },
  {
   "cell_type": "code",
   "execution_count": 3,
   "metadata": {},
   "outputs": [],
   "source": [
    "A = x(p_type = \"all\")"
   ]
  },
  {
   "cell_type": "code",
   "execution_count": 5,
   "metadata": {
    "collapsed": true
   },
   "outputs": [],
   "source": [
    "import matplotlib.pyplot as plt\n",
    "%matplotlib notebook"
   ]
  },
  {
   "cell_type": "code",
   "execution_count": 4,
   "metadata": {},
   "outputs": [
    {
     "data": {
      "text/plain": [
       "(2676, 20, 50, 18)"
      ]
     },
     "execution_count": 4,
     "metadata": {},
     "output_type": "execute_result"
    }
   ],
   "source": [
    "A[\"X_tr\"].shape"
   ]
  },
  {
   "cell_type": "code",
   "execution_count": 24,
   "metadata": {},
   "outputs": [
    {
     "data": {
      "application/javascript": [
       "/* Put everything inside the global mpl namespace */\n",
       "window.mpl = {};\n",
       "\n",
       "\n",
       "mpl.get_websocket_type = function() {\n",
       "    if (typeof(WebSocket) !== 'undefined') {\n",
       "        return WebSocket;\n",
       "    } else if (typeof(MozWebSocket) !== 'undefined') {\n",
       "        return MozWebSocket;\n",
       "    } else {\n",
       "        alert('Your browser does not have WebSocket support.' +\n",
       "              'Please try Chrome, Safari or Firefox ≥ 6. ' +\n",
       "              'Firefox 4 and 5 are also supported but you ' +\n",
       "              'have to enable WebSockets in about:config.');\n",
       "    };\n",
       "}\n",
       "\n",
       "mpl.figure = function(figure_id, websocket, ondownload, parent_element) {\n",
       "    this.id = figure_id;\n",
       "\n",
       "    this.ws = websocket;\n",
       "\n",
       "    this.supports_binary = (this.ws.binaryType != undefined);\n",
       "\n",
       "    if (!this.supports_binary) {\n",
       "        var warnings = document.getElementById(\"mpl-warnings\");\n",
       "        if (warnings) {\n",
       "            warnings.style.display = 'block';\n",
       "            warnings.textContent = (\n",
       "                \"This browser does not support binary websocket messages. \" +\n",
       "                    \"Performance may be slow.\");\n",
       "        }\n",
       "    }\n",
       "\n",
       "    this.imageObj = new Image();\n",
       "\n",
       "    this.context = undefined;\n",
       "    this.message = undefined;\n",
       "    this.canvas = undefined;\n",
       "    this.rubberband_canvas = undefined;\n",
       "    this.rubberband_context = undefined;\n",
       "    this.format_dropdown = undefined;\n",
       "\n",
       "    this.image_mode = 'full';\n",
       "\n",
       "    this.root = $('<div/>');\n",
       "    this._root_extra_style(this.root)\n",
       "    this.root.attr('style', 'display: inline-block');\n",
       "\n",
       "    $(parent_element).append(this.root);\n",
       "\n",
       "    this._init_header(this);\n",
       "    this._init_canvas(this);\n",
       "    this._init_toolbar(this);\n",
       "\n",
       "    var fig = this;\n",
       "\n",
       "    this.waiting = false;\n",
       "\n",
       "    this.ws.onopen =  function () {\n",
       "            fig.send_message(\"supports_binary\", {value: fig.supports_binary});\n",
       "            fig.send_message(\"send_image_mode\", {});\n",
       "            if (mpl.ratio != 1) {\n",
       "                fig.send_message(\"set_dpi_ratio\", {'dpi_ratio': mpl.ratio});\n",
       "            }\n",
       "            fig.send_message(\"refresh\", {});\n",
       "        }\n",
       "\n",
       "    this.imageObj.onload = function() {\n",
       "            if (fig.image_mode == 'full') {\n",
       "                // Full images could contain transparency (where diff images\n",
       "                // almost always do), so we need to clear the canvas so that\n",
       "                // there is no ghosting.\n",
       "                fig.context.clearRect(0, 0, fig.canvas.width, fig.canvas.height);\n",
       "            }\n",
       "            fig.context.drawImage(fig.imageObj, 0, 0);\n",
       "        };\n",
       "\n",
       "    this.imageObj.onunload = function() {\n",
       "        this.ws.close();\n",
       "    }\n",
       "\n",
       "    this.ws.onmessage = this._make_on_message_function(this);\n",
       "\n",
       "    this.ondownload = ondownload;\n",
       "}\n",
       "\n",
       "mpl.figure.prototype._init_header = function() {\n",
       "    var titlebar = $(\n",
       "        '<div class=\"ui-dialog-titlebar ui-widget-header ui-corner-all ' +\n",
       "        'ui-helper-clearfix\"/>');\n",
       "    var titletext = $(\n",
       "        '<div class=\"ui-dialog-title\" style=\"width: 100%; ' +\n",
       "        'text-align: center; padding: 3px;\"/>');\n",
       "    titlebar.append(titletext)\n",
       "    this.root.append(titlebar);\n",
       "    this.header = titletext[0];\n",
       "}\n",
       "\n",
       "\n",
       "\n",
       "mpl.figure.prototype._canvas_extra_style = function(canvas_div) {\n",
       "\n",
       "}\n",
       "\n",
       "\n",
       "mpl.figure.prototype._root_extra_style = function(canvas_div) {\n",
       "\n",
       "}\n",
       "\n",
       "mpl.figure.prototype._init_canvas = function() {\n",
       "    var fig = this;\n",
       "\n",
       "    var canvas_div = $('<div/>');\n",
       "\n",
       "    canvas_div.attr('style', 'position: relative; clear: both; outline: 0');\n",
       "\n",
       "    function canvas_keyboard_event(event) {\n",
       "        return fig.key_event(event, event['data']);\n",
       "    }\n",
       "\n",
       "    canvas_div.keydown('key_press', canvas_keyboard_event);\n",
       "    canvas_div.keyup('key_release', canvas_keyboard_event);\n",
       "    this.canvas_div = canvas_div\n",
       "    this._canvas_extra_style(canvas_div)\n",
       "    this.root.append(canvas_div);\n",
       "\n",
       "    var canvas = $('<canvas/>');\n",
       "    canvas.addClass('mpl-canvas');\n",
       "    canvas.attr('style', \"left: 0; top: 0; z-index: 0; outline: 0\")\n",
       "\n",
       "    this.canvas = canvas[0];\n",
       "    this.context = canvas[0].getContext(\"2d\");\n",
       "\n",
       "    var backingStore = this.context.backingStorePixelRatio ||\n",
       "\tthis.context.webkitBackingStorePixelRatio ||\n",
       "\tthis.context.mozBackingStorePixelRatio ||\n",
       "\tthis.context.msBackingStorePixelRatio ||\n",
       "\tthis.context.oBackingStorePixelRatio ||\n",
       "\tthis.context.backingStorePixelRatio || 1;\n",
       "\n",
       "    mpl.ratio = (window.devicePixelRatio || 1) / backingStore;\n",
       "\n",
       "    var rubberband = $('<canvas/>');\n",
       "    rubberband.attr('style', \"position: absolute; left: 0; top: 0; z-index: 1;\")\n",
       "\n",
       "    var pass_mouse_events = true;\n",
       "\n",
       "    canvas_div.resizable({\n",
       "        start: function(event, ui) {\n",
       "            pass_mouse_events = false;\n",
       "        },\n",
       "        resize: function(event, ui) {\n",
       "            fig.request_resize(ui.size.width, ui.size.height);\n",
       "        },\n",
       "        stop: function(event, ui) {\n",
       "            pass_mouse_events = true;\n",
       "            fig.request_resize(ui.size.width, ui.size.height);\n",
       "        },\n",
       "    });\n",
       "\n",
       "    function mouse_event_fn(event) {\n",
       "        if (pass_mouse_events)\n",
       "            return fig.mouse_event(event, event['data']);\n",
       "    }\n",
       "\n",
       "    rubberband.mousedown('button_press', mouse_event_fn);\n",
       "    rubberband.mouseup('button_release', mouse_event_fn);\n",
       "    // Throttle sequential mouse events to 1 every 20ms.\n",
       "    rubberband.mousemove('motion_notify', mouse_event_fn);\n",
       "\n",
       "    rubberband.mouseenter('figure_enter', mouse_event_fn);\n",
       "    rubberband.mouseleave('figure_leave', mouse_event_fn);\n",
       "\n",
       "    canvas_div.on(\"wheel\", function (event) {\n",
       "        event = event.originalEvent;\n",
       "        event['data'] = 'scroll'\n",
       "        if (event.deltaY < 0) {\n",
       "            event.step = 1;\n",
       "        } else {\n",
       "            event.step = -1;\n",
       "        }\n",
       "        mouse_event_fn(event);\n",
       "    });\n",
       "\n",
       "    canvas_div.append(canvas);\n",
       "    canvas_div.append(rubberband);\n",
       "\n",
       "    this.rubberband = rubberband;\n",
       "    this.rubberband_canvas = rubberband[0];\n",
       "    this.rubberband_context = rubberband[0].getContext(\"2d\");\n",
       "    this.rubberband_context.strokeStyle = \"#000000\";\n",
       "\n",
       "    this._resize_canvas = function(width, height) {\n",
       "        // Keep the size of the canvas, canvas container, and rubber band\n",
       "        // canvas in synch.\n",
       "        canvas_div.css('width', width)\n",
       "        canvas_div.css('height', height)\n",
       "\n",
       "        canvas.attr('width', width * mpl.ratio);\n",
       "        canvas.attr('height', height * mpl.ratio);\n",
       "        canvas.attr('style', 'width: ' + width + 'px; height: ' + height + 'px;');\n",
       "\n",
       "        rubberband.attr('width', width);\n",
       "        rubberband.attr('height', height);\n",
       "    }\n",
       "\n",
       "    // Set the figure to an initial 600x600px, this will subsequently be updated\n",
       "    // upon first draw.\n",
       "    this._resize_canvas(600, 600);\n",
       "\n",
       "    // Disable right mouse context menu.\n",
       "    $(this.rubberband_canvas).bind(\"contextmenu\",function(e){\n",
       "        return false;\n",
       "    });\n",
       "\n",
       "    function set_focus () {\n",
       "        canvas.focus();\n",
       "        canvas_div.focus();\n",
       "    }\n",
       "\n",
       "    window.setTimeout(set_focus, 100);\n",
       "}\n",
       "\n",
       "mpl.figure.prototype._init_toolbar = function() {\n",
       "    var fig = this;\n",
       "\n",
       "    var nav_element = $('<div/>')\n",
       "    nav_element.attr('style', 'width: 100%');\n",
       "    this.root.append(nav_element);\n",
       "\n",
       "    // Define a callback function for later on.\n",
       "    function toolbar_event(event) {\n",
       "        return fig.toolbar_button_onclick(event['data']);\n",
       "    }\n",
       "    function toolbar_mouse_event(event) {\n",
       "        return fig.toolbar_button_onmouseover(event['data']);\n",
       "    }\n",
       "\n",
       "    for(var toolbar_ind in mpl.toolbar_items) {\n",
       "        var name = mpl.toolbar_items[toolbar_ind][0];\n",
       "        var tooltip = mpl.toolbar_items[toolbar_ind][1];\n",
       "        var image = mpl.toolbar_items[toolbar_ind][2];\n",
       "        var method_name = mpl.toolbar_items[toolbar_ind][3];\n",
       "\n",
       "        if (!name) {\n",
       "            // put a spacer in here.\n",
       "            continue;\n",
       "        }\n",
       "        var button = $('<button/>');\n",
       "        button.addClass('ui-button ui-widget ui-state-default ui-corner-all ' +\n",
       "                        'ui-button-icon-only');\n",
       "        button.attr('role', 'button');\n",
       "        button.attr('aria-disabled', 'false');\n",
       "        button.click(method_name, toolbar_event);\n",
       "        button.mouseover(tooltip, toolbar_mouse_event);\n",
       "\n",
       "        var icon_img = $('<span/>');\n",
       "        icon_img.addClass('ui-button-icon-primary ui-icon');\n",
       "        icon_img.addClass(image);\n",
       "        icon_img.addClass('ui-corner-all');\n",
       "\n",
       "        var tooltip_span = $('<span/>');\n",
       "        tooltip_span.addClass('ui-button-text');\n",
       "        tooltip_span.html(tooltip);\n",
       "\n",
       "        button.append(icon_img);\n",
       "        button.append(tooltip_span);\n",
       "\n",
       "        nav_element.append(button);\n",
       "    }\n",
       "\n",
       "    var fmt_picker_span = $('<span/>');\n",
       "\n",
       "    var fmt_picker = $('<select/>');\n",
       "    fmt_picker.addClass('mpl-toolbar-option ui-widget ui-widget-content');\n",
       "    fmt_picker_span.append(fmt_picker);\n",
       "    nav_element.append(fmt_picker_span);\n",
       "    this.format_dropdown = fmt_picker[0];\n",
       "\n",
       "    for (var ind in mpl.extensions) {\n",
       "        var fmt = mpl.extensions[ind];\n",
       "        var option = $(\n",
       "            '<option/>', {selected: fmt === mpl.default_extension}).html(fmt);\n",
       "        fmt_picker.append(option)\n",
       "    }\n",
       "\n",
       "    // Add hover states to the ui-buttons\n",
       "    $( \".ui-button\" ).hover(\n",
       "        function() { $(this).addClass(\"ui-state-hover\");},\n",
       "        function() { $(this).removeClass(\"ui-state-hover\");}\n",
       "    );\n",
       "\n",
       "    var status_bar = $('<span class=\"mpl-message\"/>');\n",
       "    nav_element.append(status_bar);\n",
       "    this.message = status_bar[0];\n",
       "}\n",
       "\n",
       "mpl.figure.prototype.request_resize = function(x_pixels, y_pixels) {\n",
       "    // Request matplotlib to resize the figure. Matplotlib will then trigger a resize in the client,\n",
       "    // which will in turn request a refresh of the image.\n",
       "    this.send_message('resize', {'width': x_pixels, 'height': y_pixels});\n",
       "}\n",
       "\n",
       "mpl.figure.prototype.send_message = function(type, properties) {\n",
       "    properties['type'] = type;\n",
       "    properties['figure_id'] = this.id;\n",
       "    this.ws.send(JSON.stringify(properties));\n",
       "}\n",
       "\n",
       "mpl.figure.prototype.send_draw_message = function() {\n",
       "    if (!this.waiting) {\n",
       "        this.waiting = true;\n",
       "        this.ws.send(JSON.stringify({type: \"draw\", figure_id: this.id}));\n",
       "    }\n",
       "}\n",
       "\n",
       "\n",
       "mpl.figure.prototype.handle_save = function(fig, msg) {\n",
       "    var format_dropdown = fig.format_dropdown;\n",
       "    var format = format_dropdown.options[format_dropdown.selectedIndex].value;\n",
       "    fig.ondownload(fig, format);\n",
       "}\n",
       "\n",
       "\n",
       "mpl.figure.prototype.handle_resize = function(fig, msg) {\n",
       "    var size = msg['size'];\n",
       "    if (size[0] != fig.canvas.width || size[1] != fig.canvas.height) {\n",
       "        fig._resize_canvas(size[0], size[1]);\n",
       "        fig.send_message(\"refresh\", {});\n",
       "    };\n",
       "}\n",
       "\n",
       "mpl.figure.prototype.handle_rubberband = function(fig, msg) {\n",
       "    var x0 = msg['x0'] / mpl.ratio;\n",
       "    var y0 = (fig.canvas.height - msg['y0']) / mpl.ratio;\n",
       "    var x1 = msg['x1'] / mpl.ratio;\n",
       "    var y1 = (fig.canvas.height - msg['y1']) / mpl.ratio;\n",
       "    x0 = Math.floor(x0) + 0.5;\n",
       "    y0 = Math.floor(y0) + 0.5;\n",
       "    x1 = Math.floor(x1) + 0.5;\n",
       "    y1 = Math.floor(y1) + 0.5;\n",
       "    var min_x = Math.min(x0, x1);\n",
       "    var min_y = Math.min(y0, y1);\n",
       "    var width = Math.abs(x1 - x0);\n",
       "    var height = Math.abs(y1 - y0);\n",
       "\n",
       "    fig.rubberband_context.clearRect(\n",
       "        0, 0, fig.canvas.width, fig.canvas.height);\n",
       "\n",
       "    fig.rubberband_context.strokeRect(min_x, min_y, width, height);\n",
       "}\n",
       "\n",
       "mpl.figure.prototype.handle_figure_label = function(fig, msg) {\n",
       "    // Updates the figure title.\n",
       "    fig.header.textContent = msg['label'];\n",
       "}\n",
       "\n",
       "mpl.figure.prototype.handle_cursor = function(fig, msg) {\n",
       "    var cursor = msg['cursor'];\n",
       "    switch(cursor)\n",
       "    {\n",
       "    case 0:\n",
       "        cursor = 'pointer';\n",
       "        break;\n",
       "    case 1:\n",
       "        cursor = 'default';\n",
       "        break;\n",
       "    case 2:\n",
       "        cursor = 'crosshair';\n",
       "        break;\n",
       "    case 3:\n",
       "        cursor = 'move';\n",
       "        break;\n",
       "    }\n",
       "    fig.rubberband_canvas.style.cursor = cursor;\n",
       "}\n",
       "\n",
       "mpl.figure.prototype.handle_message = function(fig, msg) {\n",
       "    fig.message.textContent = msg['message'];\n",
       "}\n",
       "\n",
       "mpl.figure.prototype.handle_draw = function(fig, msg) {\n",
       "    // Request the server to send over a new figure.\n",
       "    fig.send_draw_message();\n",
       "}\n",
       "\n",
       "mpl.figure.prototype.handle_image_mode = function(fig, msg) {\n",
       "    fig.image_mode = msg['mode'];\n",
       "}\n",
       "\n",
       "mpl.figure.prototype.updated_canvas_event = function() {\n",
       "    // Called whenever the canvas gets updated.\n",
       "    this.send_message(\"ack\", {});\n",
       "}\n",
       "\n",
       "// A function to construct a web socket function for onmessage handling.\n",
       "// Called in the figure constructor.\n",
       "mpl.figure.prototype._make_on_message_function = function(fig) {\n",
       "    return function socket_on_message(evt) {\n",
       "        if (evt.data instanceof Blob) {\n",
       "            /* FIXME: We get \"Resource interpreted as Image but\n",
       "             * transferred with MIME type text/plain:\" errors on\n",
       "             * Chrome.  But how to set the MIME type?  It doesn't seem\n",
       "             * to be part of the websocket stream */\n",
       "            evt.data.type = \"image/png\";\n",
       "\n",
       "            /* Free the memory for the previous frames */\n",
       "            if (fig.imageObj.src) {\n",
       "                (window.URL || window.webkitURL).revokeObjectURL(\n",
       "                    fig.imageObj.src);\n",
       "            }\n",
       "\n",
       "            fig.imageObj.src = (window.URL || window.webkitURL).createObjectURL(\n",
       "                evt.data);\n",
       "            fig.updated_canvas_event();\n",
       "            fig.waiting = false;\n",
       "            return;\n",
       "        }\n",
       "        else if (typeof evt.data === 'string' && evt.data.slice(0, 21) == \"data:image/png;base64\") {\n",
       "            fig.imageObj.src = evt.data;\n",
       "            fig.updated_canvas_event();\n",
       "            fig.waiting = false;\n",
       "            return;\n",
       "        }\n",
       "\n",
       "        var msg = JSON.parse(evt.data);\n",
       "        var msg_type = msg['type'];\n",
       "\n",
       "        // Call the  \"handle_{type}\" callback, which takes\n",
       "        // the figure and JSON message as its only arguments.\n",
       "        try {\n",
       "            var callback = fig[\"handle_\" + msg_type];\n",
       "        } catch (e) {\n",
       "            console.log(\"No handler for the '\" + msg_type + \"' message type: \", msg);\n",
       "            return;\n",
       "        }\n",
       "\n",
       "        if (callback) {\n",
       "            try {\n",
       "                // console.log(\"Handling '\" + msg_type + \"' message: \", msg);\n",
       "                callback(fig, msg);\n",
       "            } catch (e) {\n",
       "                console.log(\"Exception inside the 'handler_\" + msg_type + \"' callback:\", e, e.stack, msg);\n",
       "            }\n",
       "        }\n",
       "    };\n",
       "}\n",
       "\n",
       "// from http://stackoverflow.com/questions/1114465/getting-mouse-location-in-canvas\n",
       "mpl.findpos = function(e) {\n",
       "    //this section is from http://www.quirksmode.org/js/events_properties.html\n",
       "    var targ;\n",
       "    if (!e)\n",
       "        e = window.event;\n",
       "    if (e.target)\n",
       "        targ = e.target;\n",
       "    else if (e.srcElement)\n",
       "        targ = e.srcElement;\n",
       "    if (targ.nodeType == 3) // defeat Safari bug\n",
       "        targ = targ.parentNode;\n",
       "\n",
       "    // jQuery normalizes the pageX and pageY\n",
       "    // pageX,Y are the mouse positions relative to the document\n",
       "    // offset() returns the position of the element relative to the document\n",
       "    var x = e.pageX - $(targ).offset().left;\n",
       "    var y = e.pageY - $(targ).offset().top;\n",
       "\n",
       "    return {\"x\": x, \"y\": y};\n",
       "};\n",
       "\n",
       "/*\n",
       " * return a copy of an object with only non-object keys\n",
       " * we need this to avoid circular references\n",
       " * http://stackoverflow.com/a/24161582/3208463\n",
       " */\n",
       "function simpleKeys (original) {\n",
       "  return Object.keys(original).reduce(function (obj, key) {\n",
       "    if (typeof original[key] !== 'object')\n",
       "        obj[key] = original[key]\n",
       "    return obj;\n",
       "  }, {});\n",
       "}\n",
       "\n",
       "mpl.figure.prototype.mouse_event = function(event, name) {\n",
       "    var canvas_pos = mpl.findpos(event)\n",
       "\n",
       "    if (name === 'button_press')\n",
       "    {\n",
       "        this.canvas.focus();\n",
       "        this.canvas_div.focus();\n",
       "    }\n",
       "\n",
       "    var x = canvas_pos.x * mpl.ratio;\n",
       "    var y = canvas_pos.y * mpl.ratio;\n",
       "\n",
       "    this.send_message(name, {x: x, y: y, button: event.button,\n",
       "                             step: event.step,\n",
       "                             guiEvent: simpleKeys(event)});\n",
       "\n",
       "    /* This prevents the web browser from automatically changing to\n",
       "     * the text insertion cursor when the button is pressed.  We want\n",
       "     * to control all of the cursor setting manually through the\n",
       "     * 'cursor' event from matplotlib */\n",
       "    event.preventDefault();\n",
       "    return false;\n",
       "}\n",
       "\n",
       "mpl.figure.prototype._key_event_extra = function(event, name) {\n",
       "    // Handle any extra behaviour associated with a key event\n",
       "}\n",
       "\n",
       "mpl.figure.prototype.key_event = function(event, name) {\n",
       "\n",
       "    // Prevent repeat events\n",
       "    if (name == 'key_press')\n",
       "    {\n",
       "        if (event.which === this._key)\n",
       "            return;\n",
       "        else\n",
       "            this._key = event.which;\n",
       "    }\n",
       "    if (name == 'key_release')\n",
       "        this._key = null;\n",
       "\n",
       "    var value = '';\n",
       "    if (event.ctrlKey && event.which != 17)\n",
       "        value += \"ctrl+\";\n",
       "    if (event.altKey && event.which != 18)\n",
       "        value += \"alt+\";\n",
       "    if (event.shiftKey && event.which != 16)\n",
       "        value += \"shift+\";\n",
       "\n",
       "    value += 'k';\n",
       "    value += event.which.toString();\n",
       "\n",
       "    this._key_event_extra(event, name);\n",
       "\n",
       "    this.send_message(name, {key: value,\n",
       "                             guiEvent: simpleKeys(event)});\n",
       "    return false;\n",
       "}\n",
       "\n",
       "mpl.figure.prototype.toolbar_button_onclick = function(name) {\n",
       "    if (name == 'download') {\n",
       "        this.handle_save(this, null);\n",
       "    } else {\n",
       "        this.send_message(\"toolbar_button\", {name: name});\n",
       "    }\n",
       "};\n",
       "\n",
       "mpl.figure.prototype.toolbar_button_onmouseover = function(tooltip) {\n",
       "    this.message.textContent = tooltip;\n",
       "};\n",
       "mpl.toolbar_items = [[\"Home\", \"Reset original view\", \"fa fa-home icon-home\", \"home\"], [\"Back\", \"Back to  previous view\", \"fa fa-arrow-left icon-arrow-left\", \"back\"], [\"Forward\", \"Forward to next view\", \"fa fa-arrow-right icon-arrow-right\", \"forward\"], [\"\", \"\", \"\", \"\"], [\"Pan\", \"Pan axes with left mouse, zoom with right\", \"fa fa-arrows icon-move\", \"pan\"], [\"Zoom\", \"Zoom to rectangle\", \"fa fa-square-o icon-check-empty\", \"zoom\"], [\"\", \"\", \"\", \"\"], [\"Download\", \"Download plot\", \"fa fa-floppy-o icon-save\", \"download\"]];\n",
       "\n",
       "mpl.extensions = [\"eps\", \"jpeg\", \"pdf\", \"png\", \"ps\", \"raw\", \"svg\", \"tif\"];\n",
       "\n",
       "mpl.default_extension = \"png\";var comm_websocket_adapter = function(comm) {\n",
       "    // Create a \"websocket\"-like object which calls the given IPython comm\n",
       "    // object with the appropriate methods. Currently this is a non binary\n",
       "    // socket, so there is still some room for performance tuning.\n",
       "    var ws = {};\n",
       "\n",
       "    ws.close = function() {\n",
       "        comm.close()\n",
       "    };\n",
       "    ws.send = function(m) {\n",
       "        //console.log('sending', m);\n",
       "        comm.send(m);\n",
       "    };\n",
       "    // Register the callback with on_msg.\n",
       "    comm.on_msg(function(msg) {\n",
       "        //console.log('receiving', msg['content']['data'], msg);\n",
       "        // Pass the mpl event to the overriden (by mpl) onmessage function.\n",
       "        ws.onmessage(msg['content']['data'])\n",
       "    });\n",
       "    return ws;\n",
       "}\n",
       "\n",
       "mpl.mpl_figure_comm = function(comm, msg) {\n",
       "    // This is the function which gets called when the mpl process\n",
       "    // starts-up an IPython Comm through the \"matplotlib\" channel.\n",
       "\n",
       "    var id = msg.content.data.id;\n",
       "    // Get hold of the div created by the display call when the Comm\n",
       "    // socket was opened in Python.\n",
       "    var element = $(\"#\" + id);\n",
       "    var ws_proxy = comm_websocket_adapter(comm)\n",
       "\n",
       "    function ondownload(figure, format) {\n",
       "        window.open(figure.imageObj.src);\n",
       "    }\n",
       "\n",
       "    var fig = new mpl.figure(id, ws_proxy,\n",
       "                           ondownload,\n",
       "                           element.get(0));\n",
       "\n",
       "    // Call onopen now - mpl needs it, as it is assuming we've passed it a real\n",
       "    // web socket which is closed, not our websocket->open comm proxy.\n",
       "    ws_proxy.onopen();\n",
       "\n",
       "    fig.parent_element = element.get(0);\n",
       "    fig.cell_info = mpl.find_output_cell(\"<div id='\" + id + \"'></div>\");\n",
       "    if (!fig.cell_info) {\n",
       "        console.error(\"Failed to find cell for figure\", id, fig);\n",
       "        return;\n",
       "    }\n",
       "\n",
       "    var output_index = fig.cell_info[2]\n",
       "    var cell = fig.cell_info[0];\n",
       "\n",
       "};\n",
       "\n",
       "mpl.figure.prototype.handle_close = function(fig, msg) {\n",
       "    var width = fig.canvas.width/mpl.ratio\n",
       "    fig.root.unbind('remove')\n",
       "\n",
       "    // Update the output cell to use the data from the current canvas.\n",
       "    fig.push_to_output();\n",
       "    var dataURL = fig.canvas.toDataURL();\n",
       "    // Re-enable the keyboard manager in IPython - without this line, in FF,\n",
       "    // the notebook keyboard shortcuts fail.\n",
       "    IPython.keyboard_manager.enable()\n",
       "    $(fig.parent_element).html('<img src=\"' + dataURL + '\" width=\"' + width + '\">');\n",
       "    fig.close_ws(fig, msg);\n",
       "}\n",
       "\n",
       "mpl.figure.prototype.close_ws = function(fig, msg){\n",
       "    fig.send_message('closing', msg);\n",
       "    // fig.ws.close()\n",
       "}\n",
       "\n",
       "mpl.figure.prototype.push_to_output = function(remove_interactive) {\n",
       "    // Turn the data on the canvas into data in the output cell.\n",
       "    var width = this.canvas.width/mpl.ratio\n",
       "    var dataURL = this.canvas.toDataURL();\n",
       "    this.cell_info[1]['text/html'] = '<img src=\"' + dataURL + '\" width=\"' + width + '\">';\n",
       "}\n",
       "\n",
       "mpl.figure.prototype.updated_canvas_event = function() {\n",
       "    // Tell IPython that the notebook contents must change.\n",
       "    IPython.notebook.set_dirty(true);\n",
       "    this.send_message(\"ack\", {});\n",
       "    var fig = this;\n",
       "    // Wait a second, then push the new image to the DOM so\n",
       "    // that it is saved nicely (might be nice to debounce this).\n",
       "    setTimeout(function () { fig.push_to_output() }, 1000);\n",
       "}\n",
       "\n",
       "mpl.figure.prototype._init_toolbar = function() {\n",
       "    var fig = this;\n",
       "\n",
       "    var nav_element = $('<div/>')\n",
       "    nav_element.attr('style', 'width: 100%');\n",
       "    this.root.append(nav_element);\n",
       "\n",
       "    // Define a callback function for later on.\n",
       "    function toolbar_event(event) {\n",
       "        return fig.toolbar_button_onclick(event['data']);\n",
       "    }\n",
       "    function toolbar_mouse_event(event) {\n",
       "        return fig.toolbar_button_onmouseover(event['data']);\n",
       "    }\n",
       "\n",
       "    for(var toolbar_ind in mpl.toolbar_items){\n",
       "        var name = mpl.toolbar_items[toolbar_ind][0];\n",
       "        var tooltip = mpl.toolbar_items[toolbar_ind][1];\n",
       "        var image = mpl.toolbar_items[toolbar_ind][2];\n",
       "        var method_name = mpl.toolbar_items[toolbar_ind][3];\n",
       "\n",
       "        if (!name) { continue; };\n",
       "\n",
       "        var button = $('<button class=\"btn btn-default\" href=\"#\" title=\"' + name + '\"><i class=\"fa ' + image + ' fa-lg\"></i></button>');\n",
       "        button.click(method_name, toolbar_event);\n",
       "        button.mouseover(tooltip, toolbar_mouse_event);\n",
       "        nav_element.append(button);\n",
       "    }\n",
       "\n",
       "    // Add the status bar.\n",
       "    var status_bar = $('<span class=\"mpl-message\" style=\"text-align:right; float: right;\"/>');\n",
       "    nav_element.append(status_bar);\n",
       "    this.message = status_bar[0];\n",
       "\n",
       "    // Add the close button to the window.\n",
       "    var buttongrp = $('<div class=\"btn-group inline pull-right\"></div>');\n",
       "    var button = $('<button class=\"btn btn-mini btn-primary\" href=\"#\" title=\"Stop Interaction\"><i class=\"fa fa-power-off icon-remove icon-large\"></i></button>');\n",
       "    button.click(function (evt) { fig.handle_close(fig, {}); } );\n",
       "    button.mouseover('Stop Interaction', toolbar_mouse_event);\n",
       "    buttongrp.append(button);\n",
       "    var titlebar = this.root.find($('.ui-dialog-titlebar'));\n",
       "    titlebar.prepend(buttongrp);\n",
       "}\n",
       "\n",
       "mpl.figure.prototype._root_extra_style = function(el){\n",
       "    var fig = this\n",
       "    el.on(\"remove\", function(){\n",
       "\tfig.close_ws(fig, {});\n",
       "    });\n",
       "}\n",
       "\n",
       "mpl.figure.prototype._canvas_extra_style = function(el){\n",
       "    // this is important to make the div 'focusable\n",
       "    el.attr('tabindex', 0)\n",
       "    // reach out to IPython and tell the keyboard manager to turn it's self\n",
       "    // off when our div gets focus\n",
       "\n",
       "    // location in version 3\n",
       "    if (IPython.notebook.keyboard_manager) {\n",
       "        IPython.notebook.keyboard_manager.register_events(el);\n",
       "    }\n",
       "    else {\n",
       "        // location in version 2\n",
       "        IPython.keyboard_manager.register_events(el);\n",
       "    }\n",
       "\n",
       "}\n",
       "\n",
       "mpl.figure.prototype._key_event_extra = function(event, name) {\n",
       "    var manager = IPython.notebook.keyboard_manager;\n",
       "    if (!manager)\n",
       "        manager = IPython.keyboard_manager;\n",
       "\n",
       "    // Check for shift+enter\n",
       "    if (event.shiftKey && event.which == 13) {\n",
       "        this.canvas_div.blur();\n",
       "        // select the cell after this one\n",
       "        var index = IPython.notebook.find_cell_index(this.cell_info[0]);\n",
       "        IPython.notebook.select(index + 1);\n",
       "    }\n",
       "}\n",
       "\n",
       "mpl.figure.prototype.handle_save = function(fig, msg) {\n",
       "    fig.ondownload(fig, null);\n",
       "}\n",
       "\n",
       "\n",
       "mpl.find_output_cell = function(html_output) {\n",
       "    // Return the cell and output element which can be found *uniquely* in the notebook.\n",
       "    // Note - this is a bit hacky, but it is done because the \"notebook_saving.Notebook\"\n",
       "    // IPython event is triggered only after the cells have been serialised, which for\n",
       "    // our purposes (turning an active figure into a static one), is too late.\n",
       "    var cells = IPython.notebook.get_cells();\n",
       "    var ncells = cells.length;\n",
       "    for (var i=0; i<ncells; i++) {\n",
       "        var cell = cells[i];\n",
       "        if (cell.cell_type === 'code'){\n",
       "            for (var j=0; j<cell.output_area.outputs.length; j++) {\n",
       "                var data = cell.output_area.outputs[j];\n",
       "                if (data.data) {\n",
       "                    // IPython >= 3 moved mimebundle to data attribute of output\n",
       "                    data = data.data;\n",
       "                }\n",
       "                if (data['text/html'] == html_output) {\n",
       "                    return [cell, data, j];\n",
       "                }\n",
       "            }\n",
       "        }\n",
       "    }\n",
       "}\n",
       "\n",
       "// Register the function which deals with the matplotlib target/channel.\n",
       "// The kernel may be null if the page has been refreshed.\n",
       "if (IPython.notebook.kernel != null) {\n",
       "    IPython.notebook.kernel.comm_manager.register_target('matplotlib', mpl.mpl_figure_comm);\n",
       "}\n"
      ],
      "text/plain": [
       "<IPython.core.display.Javascript object>"
      ]
     },
     "metadata": {},
     "output_type": "display_data"
    },
    {
     "data": {
      "text/html": [
       "<img src=\"data:image/png;base64,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\" width=\"639.9999861283738\">"
      ],
      "text/plain": [
       "<IPython.core.display.HTML object>"
      ]
     },
     "metadata": {},
     "output_type": "display_data"
    },
    {
     "ename": "IndexError",
     "evalue": "index 2646 is out of bounds for axis 0 with size 2646",
     "output_type": "error",
     "traceback": [
      "\u001b[0;31m---------------------------------------------------------------------------\u001b[0m",
      "\u001b[0;31mIndexError\u001b[0m                                Traceback (most recent call last)",
      "\u001b[0;32m<ipython-input-24-b36ee0c0abf7>\u001b[0m in \u001b[0;36m<module>\u001b[0;34m()\u001b[0m\n\u001b[1;32m      6\u001b[0m \u001b[0;32mfor\u001b[0m \u001b[0mi\u001b[0m \u001b[0;32min\u001b[0m \u001b[0mrange\u001b[0m\u001b[0;34m(\u001b[0m\u001b[0;36m5000\u001b[0m\u001b[0;34m)\u001b[0m\u001b[0;34m:\u001b[0m\u001b[0;34m\u001b[0m\u001b[0m\n\u001b[1;32m      7\u001b[0m     \u001b[0max\u001b[0m\u001b[0;34m.\u001b[0m\u001b[0mclear\u001b[0m\u001b[0;34m(\u001b[0m\u001b[0;34m)\u001b[0m\u001b[0;34m\u001b[0m\u001b[0m\n\u001b[0;32m----> 8\u001b[0;31m     \u001b[0max\u001b[0m\u001b[0;34m.\u001b[0m\u001b[0mimshow\u001b[0m\u001b[0;34m(\u001b[0m\u001b[0mA\u001b[0m\u001b[0;34m[\u001b[0m\u001b[0;34m\"X_tr\"\u001b[0m\u001b[0;34m]\u001b[0m\u001b[0;34m[\u001b[0m\u001b[0mi\u001b[0m\u001b[0;34m,\u001b[0m\u001b[0;34m:\u001b[0m\u001b[0;34m,\u001b[0m\u001b[0;34m:\u001b[0m\u001b[0;34m,\u001b[0m\u001b[0;36m9\u001b[0m\u001b[0;34m:\u001b[0m\u001b[0;36m12\u001b[0m\u001b[0;34m]\u001b[0m\u001b[0;34m)\u001b[0m\u001b[0;34m\u001b[0m\u001b[0m\n\u001b[0m\u001b[1;32m      9\u001b[0m     \u001b[0mfig\u001b[0m\u001b[0;34m.\u001b[0m\u001b[0mcanvas\u001b[0m\u001b[0;34m.\u001b[0m\u001b[0mdraw\u001b[0m\u001b[0;34m(\u001b[0m\u001b[0;34m)\u001b[0m\u001b[0;34m\u001b[0m\u001b[0m\n",
      "\u001b[0;31mIndexError\u001b[0m: index 2646 is out of bounds for axis 0 with size 2646"
     ]
    }
   ],
   "source": [
    "fig = plt.figure()\n",
    "ax = fig.add_subplot(111)\n",
    "plt.ion()\n",
    "fig.show()\n",
    "fig.canvas.draw()\n",
    "for i in range(5000):\n",
    "    ax.clear()\n",
    "    ax.imshow(A[\"X_tr\"][i,:,:,9:12])\n",
    "    fig.canvas.draw()"
   ]
  },
  {
   "cell_type": "code",
   "execution_count": 23,
   "metadata": {},
   "outputs": [],
   "source": [
    "xx = x(p_type=\"all\")"
   ]
  },
  {
   "cell_type": "code",
   "execution_count": 26,
   "metadata": {},
   "outputs": [
    {
     "data": {
      "text/plain": [
       "(204, 10, 19, 15)"
      ]
     },
     "execution_count": 26,
     "metadata": {},
     "output_type": "execute_result"
    }
   ],
   "source": [
    "xx[\"X_tr\"].shape"
   ]
  },
  {
   "cell_type": "code",
   "execution_count": 5,
   "metadata": {},
   "outputs": [],
   "source": [
    "import tensorflow as tf"
   ]
  },
  {
   "cell_type": "code",
   "execution_count": 18,
   "metadata": {},
   "outputs": [],
   "source": [
    "tf.reset_default_graph()\n",
    "X = tf.placeholder(shape=[None,50,20,1],dtype = tf.float32)"
   ]
  },
  {
   "cell_type": "code",
   "execution_count": 20,
   "metadata": {},
   "outputs": [
    {
     "data": {
      "text/plain": [
       "<tf.Tensor 'concat:0' shape=(?, 50, 20, 2) dtype=float32>"
      ]
     },
     "execution_count": 20,
     "metadata": {},
     "output_type": "execute_result"
    }
   ],
   "source": [
    "tf.concat([X,X],axis=3)"
   ]
  },
  {
   "cell_type": "code",
   "execution_count": 10,
   "metadata": {},
   "outputs": [
    {
     "data": {
      "text/plain": [
       "16.0"
      ]
     },
     "execution_count": 10,
     "metadata": {},
     "output_type": "execute_result"
    }
   ],
   "source": [
    "20*20/25"
   ]
  },
  {
   "cell_type": "code",
   "execution_count": 44,
   "metadata": {},
   "outputs": [
    {
     "data": {
      "text/plain": [
       "<matplotlib.image.AxesImage at 0x7fd6a3001128>"
      ]
     },
     "execution_count": 44,
     "metadata": {},
     "output_type": "execute_result"
    },
    {
     "data": {
      "image/png": "[encoded data removed]",
      "text/plain": [
       "<matplotlib.figure.Figure at 0x7fd7717a9908>"
      ]
     },
     "metadata": {},
     "output_type": "display_data"
    }
   ],
   "source": [
    "plt.imshow(X[\"X_tr\"][2337,:,:,9:12])"
   ]
  },
  {
   "cell_type": "code",
   "execution_count": 26,
   "metadata": {
    "collapsed": true
   },
   "outputs": [],
   "source": [
    "import matplotlib.pyplot as plt\n",
    "%matplotlib inline"
   ]
  },
  {
   "cell_type": "code",
   "execution_count": 18,
   "metadata": {
    "collapsed": true
   },
   "outputs": [],
   "source": [
    "a = np.zeros((2,2))\n",
    "b = np.zeros((2,2))"
   ]
  },
  {
   "cell_type": "code",
   "execution_count": 19,
   "metadata": {
    "collapsed": true
   },
   "outputs": [],
   "source": [
    "x = {\"a\":a,\"b\":b}"
   ]
  },
  {
   "cell_type": "code",
   "execution_count": 87,
   "metadata": {
    "code_folding": [
     6,
     7
    ],
    "collapsed": true
   },
   "outputs": [],
   "source": [
    "import numpy as np\n",
    "import pandas as pd\n",
    "import math as mth\n",
    "import sys\n",
    "import os\n",
    "\n",
    "class DataLoader:\n",
    "\tdef __init__(self,**args):\n",
    "\t\tself.fl_name = args['data_name']+'/'\n",
    "\t\tds = []\n",
    "\t\tfor c in [\"op_mean\",\"cl_mean\",\"hi_max\",\"lo_min\",\"vl_mean\",\"vl2_mean\",\"wr\",\"rsi\",\"VIP\",\"VIN\",r\"%b\",\"bb\"]:\n",
    "\t\t\tds.append(pd.DataFrame.from_csv(self.fl_name+c+\".csv\").values)\n",
    "\t\tself.raw_data = np.stack(ds,axis  = 2)\n",
    "\t\tself.mode = args['mode']\n",
    "\t\tassert(self.mode in ['reg','cla'])\n",
    "\t\tself.p_day = args['p_day']\n",
    "\t\tself.train_prob = args['train_prob']\n",
    "\n",
    "\tdef one_hot(self,rubric,inp):\n",
    "\t\tres = np.zeros(len(rubric)+1)\n",
    "\t\tif inp < rubric[0]:\n",
    "\t\t\tres[0] = 1\n",
    "\t\t\treturn res\n",
    "\t\tif inp > rubric[-1]:\n",
    "\t\t\tres[-1] = 1\n",
    "\t\t\treturn res\n",
    "\t\tfor i in range(1,len(rubric)):\n",
    "\t\t\tif inp >= rubric[i-1] and inp < rubric[i]:\n",
    "\t\t\t\tres[i] = 1\n",
    "\t\t\t\treturn res\n",
    "\t\treturn None \n",
    "\n",
    "\tdef __call__(self,**args):\n",
    "\t\tif self.mode == 'cla':\n",
    "\t\t\trubric = args['rubric']\n",
    "\t\tp_type = args[\"p_type\"]\n",
    "\t\tif p_type == 'close':\n",
    "\t\t\tp_type = 1\n",
    "\t\telif p_type == 'high':\n",
    "\t\t\tp_type = 2\n",
    "\t\telif p_type == 'low':\n",
    "\t\t\tp_type = 3\n",
    "\t\telse:\n",
    "\t\t\tpass\n",
    "\n",
    "\t\tX_train = []\n",
    "\t\tY_train = []\n",
    "\t\tX_test = []\n",
    "\t\tY_test = []\n",
    "\t\tL = self.raw_data.shape[0]\n",
    "\t\tfor i in range(L-self.p_day-1):\n",
    "\t\t\tif np.random.rand() <= self.train_prob:\n",
    "\t\t\t\tX_train.append(self.raw_data[i:i+self.p_day,:,:])\n",
    "\t\t\t\tif self.mode == 'reg':\n",
    "\t\t\t\t\tY_train.append(self.raw_data[i+self.p_day,0,p_type])\n",
    "\t\t\t\telse:\n",
    "\t\t\t\t\tY_train.append(self.one_hot(rubric,self.raw_data[i+self.p_day,0,p_type]))\n",
    "\t\t\telse:\n",
    "\t\t\t\tX_test.append(self.raw_data[i:i+self.p_day,:,:])\n",
    "\t\t\t\tif self.mode == 'reg':\n",
    "\t\t\t\t\tY_test.append(self.raw_data[i+self.p_day,0,1])\n",
    "\t\t\t\telse:\n",
    "\t\t\t\t\tY_test.append(self.one_hot(rubric,self.raw_data[i+self.p_day,0,p_type]))\n",
    "\t\tX_train = np.stack(X_train)\n",
    "\t\tY_train = np.stack(Y_train)\n",
    "\t\tX_test = np.stack(X_test)\n",
    "\t\tY_test = np.stack(Y_test)\n",
    "\t\treturn {\"X_tr\":X_train,\"Y_tr\":Y_train,\"X_te\":X_test,\"Y_te\":Y_test}"
   ]
  },
  {
   "cell_type": "code",
   "execution_count": 88,
   "metadata": {
    "collapsed": true
   },
   "outputs": [],
   "source": [
    "x = DataLoader(data_name = \"YRD20\",mode = 'reg',p_day = 10,train_prob = 0.8)"
   ]
  },
  {
   "cell_type": "code",
   "execution_count": 97,
   "metadata": {
    "collapsed": true
   },
   "outputs": [],
   "source": [
    "d = x(p_type = 'high')"
   ]
  },
  {
   "cell_type": "code",
   "execution_count": 5,
   "metadata": {},
   "outputs": [],
   "source": [
    "a = pd.Series([1,2,3,4,5,6,7,8])"
   ]
  },
  {
   "cell_type": "code",
   "execution_count": null,
   "metadata": {
    "collapsed": true
   },
   "outputs": [],
   "source": [
    "a.ewm()"
   ]
  },
  {
   "cell_type": "code",
   "execution_count": 99,
   "metadata": {},
   "outputs": [
    {
     "data": {
      "text/plain": [
       "array([ 0.01749271,  0.00577201,  0.02355457,  0.00879765,  0.02113821,\n",
       "        0.09221311,  0.04338843,  0.        ,  0.06536697,  0.        ])"
      ]
     },
     "execution_count": 99,
     "metadata": {},
     "output_type": "execute_result"
    }
   ],
   "source": [
    "d[\"X_tr\"][0,:,0,2]"
   ]
  },
  {
   "cell_type": "code",
   "execution_count": 101,
   "metadata": {},
   "outputs": [
    {
     "data": {
      "text/plain": [
       "97"
      ]
     },
     "execution_count": 101,
     "metadata": {},
     "output_type": "execute_result"
    }
   ],
   "source": [
    "len(d[\"Y_te\"])"
   ]
  },
  {
   "cell_type": "code",
   "execution_count": 81,
   "metadata": {},
   "outputs": [
    {
     "data": {
      "text/plain": [
       "(3, 9, 19, 12)"
      ]
     },
     "execution_count": 81,
     "metadata": {},
     "output_type": "execute_result"
    }
   ],
   "source": [
    "np.stack([w,w,w]).shape"
   ]
  },
  {
   "cell_type": "code",
   "execution_count": 4,
   "metadata": {
    "collapsed": true
   },
   "outputs": [],
   "source": [
    "from PIL import Image"
   ]
  },
  {
   "cell_type": "code",
   "execution_count": 169,
   "metadata": {
    "collapsed": true
   },
   "outputs": [],
   "source": [
    "YYY = np.asanyarray(Image.open(\"/media/hanghang/DT1/cnn_pic/DataX/a0.png\")).reshape(1,300,300,3)"
   ]
  },
  {
   "cell_type": "code",
   "execution_count": 162,
   "metadata": {
    "collapsed": true
   },
   "outputs": [],
   "source": [
    "XXX = np.random.randn(2,300,300,3)"
   ]
  },
  {
   "cell_type": "code",
   "execution_count": 1,
   "metadata": {
    "collapsed": true
   },
   "outputs": [],
   "source": [
    "from tf_util_x import *"
   ]
  },
  {
   "cell_type": "code",
   "execution_count": 189,
   "metadata": {
    "collapsed": true
   },
   "outputs": [],
   "source": [
    "sess.close()"
   ]
  },
  {
   "cell_type": "code",
   "execution_count": 190,
   "metadata": {
    "collapsed": true
   },
   "outputs": [],
   "source": [
    "\n",
    "tf.reset_default_graph()\n",
    "X = tf.placeholder(shape = [None,300,300,3],dtype = tf.float32)\n",
    "Y = tf.placeholder(shape = [None,300,300,3],dtype = tf.float32)\n",
    "M = CONV_RES(X,bn=True)()\n",
    "O = CONV_RES(M,name='XX',step = 2,bn=True)()"
   ]
  },
  {
   "cell_type": "code",
   "execution_count": 191,
   "metadata": {
    "collapsed": true
   },
   "outputs": [],
   "source": [
    "cost = tf.reduce_mean(tf.squared_difference(O,Y))\n",
    "opt = tf.train.AdadeltaOptimizer(1).minimize(cost)\n",
    "init = tf.global_variables_initializer()\n",
    "sess = tf.Session()\n",
    "sess.run(init)"
   ]
  },
  {
   "cell_type": "code",
   "execution_count": 192,
   "metadata": {},
   "outputs": [
    {
     "name": "stdout",
     "output_type": "stream",
     "text": [
      "24182.2\n",
      "24181.8\n",
      "24181.4\n",
      "24180.9\n",
      "24180.5\n",
      "24180.0\n",
      "24179.5\n",
      "24178.9\n",
      "24178.3\n",
      "24177.6\n",
      "24176.8\n",
      "24175.8\n",
      "24174.8\n",
      "24173.6\n",
      "24172.2\n",
      "24170.6\n",
      "24168.7\n",
      "24166.5\n",
      "24164.0\n",
      "24161.1\n",
      "24157.6\n",
      "24153.5\n",
      "24148.7\n",
      "24143.1\n",
      "24136.5\n",
      "24128.7\n",
      "24119.5\n",
      "24108.7\n",
      "24096.0\n",
      "24081.2\n",
      "24063.8\n",
      "24043.4\n",
      "24019.6\n",
      "23991.7\n",
      "23959.1\n",
      "23920.9\n",
      "23876.1\n",
      "23823.5\n",
      "23761.9\n",
      "23689.3\n",
      "23604.3\n",
      "23504.8\n",
      "23388.6\n",
      "23252.5\n",
      "23094.7\n",
      "22911.8\n",
      "22701.5\n",
      "22460.4\n",
      "22185.8\n",
      "21874.7\n",
      "21524.0\n",
      "21135.2\n",
      "20694.9\n",
      "20215.7\n",
      "19677.3\n",
      "19101.9\n",
      "18463.5\n",
      "17795.7\n",
      "17047.6\n",
      "16287.3\n",
      "15505.1\n",
      "14574.4\n",
      "13694.1\n",
      "12781.5\n",
      "11885.1\n",
      "10875.4\n",
      "9902.32\n",
      "9060.95\n",
      "8215.46\n",
      "7355.83\n",
      "6556.87\n",
      "5800.06\n",
      "5148.8\n",
      "4523.13\n",
      "3997.36\n",
      "3524.34\n",
      "3127.49\n",
      "2776.23\n",
      "2482.53\n",
      "2226.99\n",
      "2014.02\n",
      "1832.3\n",
      "1681.14\n",
      "1554.9\n",
      "1450.36\n",
      "1363.52\n",
      "1291.1\n",
      "1230.18\n",
      "1178.62\n",
      "1134.68\n",
      "1096.95\n",
      "1064.3\n",
      "1035.83\n",
      "1010.84\n",
      "988.707\n",
      "969.049\n",
      "951.442\n",
      "935.34\n",
      "920.672\n",
      "907.178\n"
     ]
    }
   ],
   "source": [
    "for i in range(100):\n",
    "    _,a = sess.run([opt,cost],feed_dict={X:XXX,Y:YYY})\n",
    "    print(a)"
   ]
  },
  {
   "cell_type": "code",
   "execution_count": 182,
   "metadata": {},
   "outputs": [
    {
     "data": {
      "text/plain": [
       "<matplotlib.image.AxesImage at 0x7fb8f207ce48>"
      ]
     },
     "execution_count": 182,
     "metadata": {},
     "output_type": "execute_result"
    },
    {
     "data": {
      "image/png": "[encoded data removed]",
      "text/plain": [
       "<matplotlib.figure.Figure at 0x7fb8f1a303c8>"
      ]
     },
     "metadata": {},
     "output_type": "display_data"
    }
   ],
   "source": [
    "Z = sess.run(O,feed_dict={X:XXX})\n",
    "plt.imshow(Z[0].astype(np.uint8))"
   ]
  },
  {
   "cell_type": "code",
   "execution_count": 54,
   "metadata": {
    "collapsed": true
   },
   "outputs": [],
   "source": [
    "%matplotlib inline"
   ]
  },
  {
   "cell_type": "code",
   "execution_count": 183,
   "metadata": {
    "collapsed": true
   },
   "outputs": [],
   "source": [
    "a = tf.get_variable(\"a\",shape = [1])"
   ]
  },
  {
   "cell_type": "code",
   "execution_count": 184,
   "metadata": {},
   "outputs": [
    {
     "data": {
      "text/plain": [
       "<tf.Tensor 'mul:0' shape=(?, 300, 300, 3) dtype=float32>"
      ]
     },
     "execution_count": 184,
     "metadata": {},
     "output_type": "execute_result"
    }
   ],
   "source": [
    "X*a"
   ]
  }
 ],
 "metadata": {
  "kernelspec": {
   "display_name": "Python 3",
   "language": "python",
   "name": "python3"
  },
  "language_info": {
   "codemirror_mode": {
    "name": "ipython",
    "version": 3
   },
   "file_extension": ".py",
   "mimetype": "text/x-python",
   "name": "python",
   "nbconvert_exporter": "python",
   "pygments_lexer": "ipython3",
   "version": "3.6.1"
  }
 },
 "nbformat": 4,
 "nbformat_minor": 2
}
