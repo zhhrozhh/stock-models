{
 "cells": [
  {
   "cell_type": "code",
   "execution_count": 1,
   "metadata": {
    "collapsed": true
   },
   "outputs": [],
   "source": [
    "import quandl\n",
    "import sys\n",
    "import os\n",
    "import pandas as pd\n",
    "import matplotlib.pyplot as plt\n",
    "import numpy as np\n",
    "from math import log\n",
    "%matplotlib inline\n",
    "quandl.ApiConfig.api_key = \"rixaXs71r2KgkmPHW9jZ\""
   ]
  },
  {
   "cell_type": "code",
   "execution_count": 4,
   "metadata": {
    "collapsed": true
   },
   "outputs": [],
   "source": [
    "class Selector:\n",
    "    def __init__(self,scodes):\n",
    "        self.scodes = scodes\n",
    "        self.csv = pd.DataFrame()\n",
    "        for scode in scodes:\n",
    "            print(\"downloading \"+scode, end = \"...\")\n",
    "            data = quandl.get(\"EOD/\"+scode)\n",
    "            print(\" Done\")\n",
    "            hi = data[\"High\"]\n",
    "            lo = data[\"Low\"]\n",
    "            c = data[\"Close\"]\n",
    "            \n",
    "            hc = (hi-c.shift(1))/c.shift(1)\n",
    "            lc = (lo-c.shift(1))/c.shift(1)\n",
    "            cc = (c-c.shift(1))/c.shift(1)\n",
    "            \n",
    "            ccov = c.std()/c.mean()\n",
    "            cccov = cc.std()/cc.mean()\n",
    "            hcov = hi.std()/hi.mean()\n",
    "            hccov = hc.std()/hc.mean()\n",
    "            lcov = lo.std()/lo.mean()\n",
    "            lccov = lc.std()/lc.mean()\n",
    "            self.csv[scode] = [ccov,cccov,hcov,hccov,lcov,lccov]\n",
    "        self.csv.index = [\"ccv\",\"cccv\",\"hcv\",\"hccv\",\"lcv\",\"lccv\"]\n",
    "    def __call__(self):\n",
    "        return self.csv\n",
    "        "
   ]
  },
  {
   "cell_type": "code",
   "execution_count": 5,
   "metadata": {},
   "outputs": [
    {
     "name": "stdout",
     "output_type": "stream",
     "text": [
      "downloading YRD... Done\n",
      "downloading BAC... Done\n",
      "downloading RH... Done\n",
      "downloading PCRX... Done\n"
     ]
    }
   ],
   "source": [
    "a = Selector([\"YRD\",\"BAC\",\"RH\",\"PCRX\"])"
   ]
  },
  {
   "cell_type": "code",
   "execution_count": 7,
   "metadata": {},
   "outputs": [
    {
     "data": {
      "text/html": [
       "<div>\n",
       "<style>\n",
       "    .dataframe thead tr:only-child th {\n",
       "        text-align: right;\n",
       "    }\n",
       "\n",
       "    .dataframe thead th {\n",
       "        text-align: left;\n",
       "    }\n",
       "\n",
       "    .dataframe tbody tr th {\n",
       "        vertical-align: top;\n",
       "    }\n",
       "</style>\n",
       "<table border=\"1\" class=\"dataframe\">\n",
       "  <thead>\n",
       "    <tr style=\"text-align: right;\">\n",
       "      <th></th>\n",
       "      <th>YRD</th>\n",
       "      <th>BAC</th>\n",
       "      <th>RH</th>\n",
       "      <th>PCRX</th>\n",
       "    </tr>\n",
       "  </thead>\n",
       "  <tbody>\n",
       "    <tr>\n",
       "      <th>ccov</th>\n",
       "      <td>0.473023</td>\n",
       "      <td>0.549976</td>\n",
       "      <td>0.376645</td>\n",
       "      <td>0.646993</td>\n",
       "    </tr>\n",
       "    <tr>\n",
       "      <th>cccov</th>\n",
       "      <td>12.650429</td>\n",
       "      <td>84.841764</td>\n",
       "      <td>22.515105</td>\n",
       "      <td>20.805419</td>\n",
       "    </tr>\n",
       "    <tr>\n",
       "      <th>hcov</th>\n",
       "      <td>0.468613</td>\n",
       "      <td>0.548204</td>\n",
       "      <td>0.374643</td>\n",
       "      <td>0.645800</td>\n",
       "    </tr>\n",
       "    <tr>\n",
       "      <th>hccov</th>\n",
       "      <td>1.078922</td>\n",
       "      <td>1.857205</td>\n",
       "      <td>1.527148</td>\n",
       "      <td>1.149145</td>\n",
       "    </tr>\n",
       "    <tr>\n",
       "      <th>lcov</th>\n",
       "      <td>0.474509</td>\n",
       "      <td>0.551449</td>\n",
       "      <td>0.378904</td>\n",
       "      <td>0.648386</td>\n",
       "    </tr>\n",
       "    <tr>\n",
       "      <th>lccov</th>\n",
       "      <td>-1.169351</td>\n",
       "      <td>-1.784675</td>\n",
       "      <td>-1.545892</td>\n",
       "      <td>-1.121611</td>\n",
       "    </tr>\n",
       "  </tbody>\n",
       "</table>\n",
       "</div>"
      ],
      "text/plain": [
       "             YRD        BAC         RH       PCRX\n",
       "ccov    0.473023   0.549976   0.376645   0.646993\n",
       "cccov  12.650429  84.841764  22.515105  20.805419\n",
       "hcov    0.468613   0.548204   0.374643   0.645800\n",
       "hccov   1.078922   1.857205   1.527148   1.149145\n",
       "lcov    0.474509   0.551449   0.378904   0.648386\n",
       "lccov  -1.169351  -1.784675  -1.545892  -1.121611"
      ]
     },
     "execution_count": 7,
     "metadata": {},
     "output_type": "execute_result"
    }
   ],
   "source": [
    "a()"
   ]
  },
  {
   "cell_type": "code",
   "execution_count": 10,
   "metadata": {},
   "outputs": [
    {
     "data": {
      "text/plain": [
       "1.2234042553191489"
      ]
     },
     "execution_count": 10,
     "metadata": {},
     "output_type": "execute_result"
    }
   ],
   "source": [
    "1.15/0.94"
   ]
  }
 ],
 "metadata": {
  "kernelspec": {
   "display_name": "Python 3",
   "language": "python",
   "name": "python3"
  },
  "language_info": {
   "codemirror_mode": {
    "name": "ipython",
    "version": 3
   },
   "file_extension": ".py",
   "mimetype": "text/x-python",
   "name": "python",
   "nbconvert_exporter": "python",
   "pygments_lexer": "ipython3",
   "version": "3.6.1"
  }
 },
 "nbformat": 4,
 "nbformat_minor": 2
}
