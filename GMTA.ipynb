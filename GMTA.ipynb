{
 "cells": [
  {
   "cell_type": "code",
   "execution_count": 1,
   "metadata": {},
   "outputs": [],
   "source": [
    "use_quandl = True\n",
    "try:\n",
    "    import quandl\n",
    "except:\n",
    "    use_quandl = False\n",
    "use_portfoliomgr = True\n",
    "try:\n",
    "    from Portfolio import Portfolio\n",
    "except:\n",
    "    use_portfoliomgr = False\n",
    "import pandas as pd\n",
    "import numpy as np\n",
    "from scipy.optimize import minimize\n"
   ]
  },
  {
   "cell_type": "code",
   "execution_count": 2,
   "metadata": {},
   "outputs": [
    {
     "data": {
      "text/plain": [
       "True"
      ]
     },
     "execution_count": 2,
     "metadata": {},
     "output_type": "execute_result"
    }
   ],
   "source": [
    "from Robinhood import Robinhood\n",
    "trader = Robinhood()\n",
    "trader.login('hang2','zhhISbest2')"
   ]
  },
  {
   "cell_type": "code",
   "execution_count": 86,
   "metadata": {
    "code_folding": [
     2,
     11,
     26,
     33,
     42,
     75,
     106,
     112,
     118,
     127,
     141,
     154,
     167,
     176,
     208,
     219
    ],
    "collapsed": true
   },
   "outputs": [],
   "source": [
    "\n",
    "class GMTA:\n",
    "    def __init__(\n",
    "        self,\n",
    "        scodes,\n",
    "        Rf = 0.01/310,\n",
    "        period = 150,\n",
    "        no_short = True,\n",
    "        optimizer_tol = 1e-15,\n",
    "        optimizer_maxiter = 600,\n",
    "        quandl_apikey = None,\n",
    "    ):\n",
    "        global use_quandl,use_portfoliomgr\n",
    "        if not use_quandl:\n",
    "            assert quandl_apikey is None\n",
    "        self.scodes = scodes\n",
    "        self.Rf = Rf\n",
    "        self.period = period\n",
    "        self.no_short = no_short\n",
    "        self.tol = optimizer_tol\n",
    "        self.maxiter = optimizer_maxiter\n",
    "        self.data = pd.DataFrame(columns = scodes)\n",
    "        self.gmv = None\n",
    "        self.mve = None\n",
    "        self.apikey = quandl_apikey\n",
    "            \n",
    "    def update(self,data=None):\n",
    "        if data is not None:\n",
    "            self.data = data\n",
    "        self.cov = self.data.cov()\n",
    "        self.std = self.data.std(ddof = 0)\n",
    "        self.mean = self.data.mean()\n",
    "        \n",
    "    def global_variance(self,w):\n",
    "        assert len(w) == len(self.scodes)\n",
    "        res = np.dot(np.matmul(w,self.cov.values),w)\n",
    "        return np.sqrt(res)\n",
    "    \n",
    "    def sharpe_ratio(self,w):\n",
    "        assert len(w) == len(self.scodes)\n",
    "        return (np.dot(w,self.mean.values)-self.Rf)/self.global_variance(w)\n",
    "    \n",
    "    def GMV(self,no_short = None,tol = None,maxiter = None):\n",
    "        if no_short is None:\n",
    "            no_short = self.no_short\n",
    "        if tol is None:\n",
    "            tol = self.tol\n",
    "        if maxiter is None:\n",
    "            maxiter = self.maxiter\n",
    "        w0 = np.array([1.0/len(self.scodes)]*len(self.scodes))\n",
    "        params = {\n",
    "            'fun':lambda x:self.global_variance(x),\n",
    "            'x0':w0,\n",
    "            'method':'SLSQP',\n",
    "            'constraints':{\n",
    "                'type':'eq',\n",
    "                'fun':(lambda x:sum(x)-1)\n",
    "            },\n",
    "            'tol':tol,\n",
    "            'options':{\n",
    "                'maxiter':maxiter\n",
    "            }\n",
    "        }\n",
    "        if no_short:\n",
    "            params['bounds'] = [(0,1) for i in range(len(self.scodes))]\n",
    "        gmv = minimize(**params)\n",
    "        if gmv.message != 'Optimization terminated successfully.':\n",
    "            print(\"Error during GMV minimize:\")\n",
    "            print(gmv.message)\n",
    "        self.Wgmv = gmv.x\n",
    "        self.Rgmv = np.dot(gmv.x,self.mean)\n",
    "        self.Vgmv = gmv.fun\n",
    "        self.gmv = gmv\n",
    "        \n",
    "    def MVE(self,no_short = None,tol = None,maxiter = None):\n",
    "        if no_short is None:\n",
    "            no_short = self.no_short\n",
    "        if tol is None:\n",
    "            tol = self.tol\n",
    "        if maxiter is None:\n",
    "            maxiter = self.maxiter\n",
    "        w0 = np.array([1.0/len(self.scodes)]*len(self.scodes))\n",
    "        params = {\n",
    "            'fun':lambda x:-self.sharpe_ratio(x),\n",
    "            'x0':w0,\n",
    "            'method':'SLSQP',\n",
    "            'constraints':{\n",
    "                'type':'eq',\n",
    "                'fun':(lambda x:sum(x)-1)\n",
    "            },\n",
    "            'tol':tol,\n",
    "            'options':{\n",
    "                'maxiter':maxiter\n",
    "            }\n",
    "        }\n",
    "        if no_short:\n",
    "            params['bounds'] = [(0,1) for i in range(len(self.scodes))]\n",
    "        mve = minimize(**params)\n",
    "        if mve.message != 'Optimization terminated successfully.':\n",
    "            print(\"Error during MVE minimize:\")\n",
    "            print(mve.message)\n",
    "        self.Wmve = mve.x\n",
    "        self.Rmve = np.dot(mve.x,self.mean)\n",
    "        self.Vmve = self.global_variance(mve.x)\n",
    "        self.mve = mve\n",
    "        \n",
    "    def GMc(self):\n",
    "        wmve = self.Wmve.reshape(-1,1)\n",
    "        wgmv = self.Wgmv.reshape(-1,1)\n",
    "        U = np.matmul(wgmv,wmve.T)\n",
    "        return np.dot(U.flatten(),self.cov.values.flatten())\n",
    "    \n",
    "    def risk_return(self,w=0.02):\n",
    "        cov = self.GMc()\n",
    "        r = w*self.Rgmv + (1-w)*self.Rmve\n",
    "        d = np.sqrt(w**2*self.Vgmv**2 + (1-w)**2*self.Vmve**2 + 2*w*(1-w)*cov)\n",
    "        return d,r\n",
    "\n",
    "    def one_trade(self,data=None,w=0.02):\n",
    "        if data is not None:\n",
    "            data = data[self.scodes]\n",
    "        self.data = data.iloc[-self.period:]\n",
    "        self.update()\n",
    "        self.GMV()\n",
    "        self.MVE()\n",
    "        return self.Wgmv * w + self.Wmve * (1-w)\n",
    "        \n",
    "    def trading_simulator(self,data,w=0.02):\n",
    "        data = data[self.scodes]\n",
    "        ws = [np.zeros(len(self.scodes))]\n",
    "        rs = []\n",
    "        assert len(data) > self.period\n",
    "        for i in range(len(data)-self.period):\n",
    "            self.data = data.iloc[i:i+self.period]\n",
    "            self.update()\n",
    "            self.GMV()\n",
    "            self.MVE()\n",
    "            rs.append(np.dot(ws[-1],self.data.iloc[-1].values))\n",
    "            ws.append(w*self.Wgmv + (1-w)*self.Wmve)\n",
    "        return rs,ws\n",
    "    \n",
    "    def quandl_test_data_generator(self):\n",
    "        global use_quandl\n",
    "        if self.apikey is None:\n",
    "            print('quandl is not avaliable or no apikey provided, cannot use this function')\n",
    "            return\n",
    "        quandl.ApiConfig.api_key = self.apikey\n",
    "        res = pd.DataFrame()\n",
    "        for scode in self.scodes:\n",
    "            cl = quandl.get(\"EOD/\"+scode.replace(\".\",\"_\"))['Close']\n",
    "            res[scode] = (cl-cl.shift(1))/cl.shift(1)\n",
    "        quandl.ApiConfig.api_key = None\n",
    "        return res.dropna()\n",
    "    \n",
    "    def quandl_today_data_generator(self):\n",
    "        global use_quandl\n",
    "        if self.apikey is None:\n",
    "            print('quandl is not avaliable or no apikey provided, cannot use this function')\n",
    "            return\n",
    "        res = pd.DataFrame()\n",
    "        quandl.ApiConfig.api_key = self.apikey\n",
    "        for scode in self.scodes:\n",
    "            cl = quandl.get(\"EOD/\"+scode.replace(\".\",\"_\"),rows = self.period+1)[\"Close\"]\n",
    "            res[scode] = (cl-cl.shift(1))/cl.shift(1)\n",
    "        quandl.ApiConfig.api_key = None\n",
    "        return res.dropna()\n",
    "    \n",
    "    def one_trade_per_day_with_quandl_and_robinhood(\n",
    "        self,\n",
    "        pmgr,\n",
    "        pnmae,\n",
    "        args = {\n",
    "            \"call_from_mgr\" : False\n",
    "        },misc = {\n",
    "            \"w\" : 0.02\n",
    "        }\n",
    "    ):\n",
    "        assert isinstance(pmgr,PortfolioMgr)\n",
    "        assert pname in PortfolioMgr.portfolios\n",
    "        if not args[\"call_from_mgr\"]:\n",
    "            pmgr.schedule(\n",
    "                algo = self,\n",
    "                method = \"one_trade_per_day_with_quandl_and_robinhood\",\n",
    "                portfolio_name = pname,\n",
    "                freq = 1440\n",
    "            )\n",
    "        w = misc['w']\n",
    "        p = pmgr.portfolios[pnmae]\n",
    "        data = self.quandl_today_data_generator()\n",
    "        p.portfolio_record_lock.acquire()\n",
    "        idxs = p.portfolio_record.index\n",
    "        p.portfolio_record_lock.release()\n",
    "        for x in idxs:\n",
    "            assert x in self.scodes\n",
    "        w_target = self.one_trade(data)\n",
    "        w_current = pd.Series(p.get_weights(*self.scodes)).loc[self.scodes].values\n",
    "        w_diff = w_target - w_current\n",
    "        s_diff = pd.Series(\n",
    "            ((w_diff*p.get_market_value())//p.quote_last_price(*self.scodes)).astype(int),\n",
    "            index = self.scodes\n",
    "        )\n",
    "        for scode in self.scodes:\n",
    "            n = s_diff.loc[scode]\n",
    "            if n>0:\n",
    "                p.market_buy(scode,int(n))\n",
    "            elif n<0:\n",
    "                p.market_sell(scode,int(-n))\n",
    "    \n",
    "    def intraday_trading_with_robinhood(\n",
    "        self,\n",
    "        pmgr,\n",
    "        pname,\n",
    "        args = {\n",
    "            \"frequent\" : 2,\n",
    "            \"call_from_mgr\" : False\n",
    "        },\n",
    "        misc = {\n",
    "            \"w\" : 0.02\n",
    "        }\n",
    "    ):\n",
    "        assert isinstance(pmgr,PortfolioMgr)\n",
    "        assert pname in pmgr.portfolios\n",
    "        if not args[\"call_from_mgr\"]:\n",
    "            pmgr.schedule(\n",
    "                algo = self,\n",
    "                method = \"intrday_trading_with_robinhood\",\n",
    "                portfolio_name = pname,\n",
    "                freq = args[\"frequent\"]\n",
    "            )\n",
    "        w = misc['w']\n",
    "        p = pmgr.portfolios[pnmae]\n",
    "        self.data.loc[p.get_time()] = p.quote_last_price(*self.scodes)\n",
    "        if len(self.data)<self.period:\n",
    "            return\n",
    "        w_target = self.one_trade()\n",
    "        w_current = pd.Series(p.get_weights(*self.scodes)).loc[self.scodes].values\n",
    "        w_diff = w_target - w_current\n",
    "        s_diff = pd.Series(\n",
    "            ((w_diff*p.get_market_value())//self.data.loc[p.get_time()].values).astype(int),\n",
    "            index = self.scodes\n",
    "        )\n",
    "        for scode in self.scodes:\n",
    "            n = s_diff.loc[scode]\n",
    "            if n>0:\n",
    "                p.market_buy(scode,int(n))\n",
    "            elif n<0:\n",
    "                p.market_sell(scode,int(-n))"
   ]
  },
  {
   "cell_type": "code",
   "execution_count": 85,
   "metadata": {
    "collapsed": true
   },
   "outputs": [],
   "source": [
    "trader = Robinhood()\n",
    "trader.login('hang2','zhhISbest2')\n",
    "p = Portfolio(trader=trader,name=\"default\",iniFund=500)\n",
    "gmta = GMTA(['BABA','YRD','CMCSA','WLB'],quandl_apikey=\"rixaXs71r2KgkmPHW9jZ\")"
   ]
  },
  {
   "cell_type": "code",
   "execution_count": 80,
   "metadata": {
    "collapsed": true
   },
   "outputs": [],
   "source": [
    "gmta.one_trade_per_day_with_quandl_and_robinhood(p)"
   ]
  },
  {
   "cell_type": "code",
   "execution_count": 83,
   "metadata": {},
   "outputs": [
    {
     "data": {
      "text/plain": [
       "1440"
      ]
     },
     "execution_count": 83,
     "metadata": {},
     "output_type": "execute_result"
    }
   ],
   "source": [
    "24*60"
   ]
  },
  {
   "cell_type": "code",
   "execution_count": 48,
   "metadata": {
    "collapsed": true
   },
   "outputs": [],
   "source": [
    "import matplotlib.pyplot as plt\n",
    "%matplotlib inline"
   ]
  },
  {
   "cell_type": "code",
   "execution_count": 93,
   "metadata": {},
   "outputs": [
    {
     "name": "stdout",
     "output_type": "stream",
     "text": [
      "\n"
     ]
    },
    {
     "data": {
      "text/plain": [
       "[<matplotlib.lines.Line2D at 0x7fe895ee7c18>]"
      ]
     },
     "execution_count": 93,
     "metadata": {},
     "output_type": "execute_result"
    },
    {
     "data": {
      "image/png": "[encoded data removed]",
      "text/plain": [
       "<matplotlib.figure.Figure at 0x7fe8d1489438>"
      ]
     },
     "metadata": {},
     "output_type": "display_data"
    }
   ],
   "source": [
    "symbols = [\"BAC\",\"MMM\",\"FFBC\",\"YRD\"]    #name of your asserts, you can add as many as you want to the list\n",
    "n = 200                       #algorithm will calculate gmv,mve weights for last n days\n",
    "Rf = 0.01/360                 #risk free rate(daily)\n",
    "no_short = True               #forbid shorting strategy\n",
    "w = 0.02                      #algorithm will keep on adjusting your portfolio to w*GMV + (1-w)*MVE\n",
    "\n",
    "data = pd.DataFrame()\n",
    "print()#I get data from the quandl api, you can use your own data source\n",
    "for scode in symbols:\n",
    "    cl = quandl.get(\"EOD/\"+scode)[\"Close\"]\n",
    "    data[scode] = (cl-cl.shift(1))/cl.shift(1)  #calculate price change in each day\n",
    "data = data.dropna()\n",
    "gmta = GMTA(symbols,Rf=Rf,period=n,no_short=no_short)\n",
    "rts,chs = gmta.trading_simulator(data,w)\n",
    "rts = np.array(rts)+1\n",
    "for i in range(1,len(rts)):\n",
    "    rts[i] = rts[i]*rts[i-1]\n",
    "plt.plot(rts)           #plot results of simulating"
   ]
  },
  {
   "cell_type": "code",
   "execution_count": 95,
   "metadata": {},
   "outputs": [
    {
     "data": {
      "text/plain": [
       "<matplotlib.axes._subplots.AxesSubplot at 0x7fe895cec940>"
      ]
     },
     "execution_count": 95,
     "metadata": {},
     "output_type": "execute_result"
    },
    {
     "data": {
      "image/png": "[encoded data removed]",
      "text/plain": [
       "<matplotlib.figure.Figure at 0x7fe895ff6080>"
      ]
     },
     "metadata": {},
     "output_type": "display_data"
    }
   ],
   "source": [
    "pd.DataFrame(chs,columns = [\"BAC\",\"MMM\",\"FFBC\",\"YRD\"]).plot()"
   ]
  },
  {
   "cell_type": "code",
   "execution_count": 57,
   "metadata": {},
   "outputs": [
    {
     "data": {
      "text/plain": [
       "[<matplotlib.lines.Line2D at 0x7fe89613cd68>]"
      ]
     },
     "execution_count": 57,
     "metadata": {},
     "output_type": "execute_result"
    },
    {
     "data": {
      "image/png": "[encoded data removed]",
      "text/plain": [
       "<matplotlib.figure.Figure at 0x7fe89632beb8>"
      ]
     },
     "metadata": {},
     "output_type": "display_data"
    }
   ],
   "source": [
    "plt.plot(r)"
   ]
  },
  {
   "cell_type": "code",
   "execution_count": 34,
   "metadata": {},
   "outputs": [],
   "source": [
    "x = a.robinhood_one_trade_a_day_with_quandl(p)"
   ]
  },
  {
   "cell_type": "code",
   "execution_count": 29,
   "metadata": {},
   "outputs": [],
   "source": [
    "xx = p.quote_last_price(*a.scodes)"
   ]
  },
  {
   "cell_type": "code",
   "execution_count": 97,
   "metadata": {},
   "outputs": [
    {
     "data": {
      "text/plain": [
       "False"
      ]
     },
     "execution_count": 97,
     "metadata": {},
     "output_type": "execute_result"
    }
   ],
   "source": [
    "p.is_market_open()"
   ]
  },
  {
   "cell_type": "code",
   "execution_count": 20,
   "metadata": {},
   "outputs": [
    {
     "data": {
      "text/plain": [
       "True"
      ]
     },
     "execution_count": 20,
     "metadata": {},
     "output_type": "execute_result"
    }
   ],
   "source": [
    "use_quandl"
   ]
  },
  {
   "cell_type": "code",
   "execution_count": 88,
   "metadata": {
    "collapsed": true
   },
   "outputs": [],
   "source": [
    "quandl.ApiConfig.api_key = \"rixaXs71r2KgkmPHW9jZ\""
   ]
  },
  {
   "cell_type": "code",
   "execution_count": 98,
   "metadata": {
    "collapsed": true
   },
   "outputs": [],
   "source": [
    "class A:\n",
    "    def __init__(self):\n",
    "        pass\n",
    "    def a(self,x):\n",
    "        return x\n",
    "    def b(x):\n",
    "        return x"
   ]
  },
  {
   "cell_type": "code",
   "execution_count": 99,
   "metadata": {
    "collapsed": true
   },
   "outputs": [],
   "source": [
    "a = A()"
   ]
  },
  {
   "cell_type": "code",
   "execution_count": 105,
   "metadata": {},
   "outputs": [
    {
     "name": "stdout",
     "output_type": "stream",
     "text": [
      "1\n"
     ]
    }
   ],
   "source": [
    "try:\n",
    "    assert False\n",
    "except AssertionError:\n",
    "    print(1)"
   ]
  },
  {
   "cell_type": "code",
   "execution_count": 104,
   "metadata": {},
   "outputs": [],
   "source": [
    "from time import sleep"
   ]
  }
 ],
 "metadata": {
  "kernelspec": {
   "display_name": "Python 3",
   "language": "python",
   "name": "python3"
  },
  "language_info": {
   "codemirror_mode": {
    "name": "ipython",
    "version": 3
   },
   "file_extension": ".py",
   "mimetype": "text/x-python",
   "name": "python",
   "nbconvert_exporter": "python",
   "pygments_lexer": "ipython3",
   "version": "3.6.1"
  }
 },
 "nbformat": 4,
 "nbformat_minor": 2
}
