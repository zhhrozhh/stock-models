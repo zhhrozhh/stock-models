{
 "cells": [
  {
   "cell_type": "code",
   "execution_count": 1,
   "metadata": {},
   "outputs": [],
   "source": [
    "from GMTA import GMTA\n",
    "from Portfolio import PortfolioMgr"
   ]
  },
  {
   "cell_type": "code",
   "execution_count": 2,
   "metadata": {
    "collapsed": true
   },
   "outputs": [],
   "source": [
    "gmta = GMTA([\"RH\",\"FFBC\",\"YRD\",\"CTRV\",\"INTC\",\"BABA\"],quandl_apikey=\"rixaXs71r2KgkmPHW9jZ\")"
   ]
  },
  {
   "cell_type": "code",
   "execution_count": 3,
   "metadata": {
    "collapsed": true
   },
   "outputs": [],
   "source": [
    "pm = PortfolioMgr(\"hang2\",\"zhhISbest2\",\"REALTRADENOW\")"
   ]
  },
  {
   "cell_type": "code",
   "execution_count": 4,
   "metadata": {},
   "outputs": [],
   "source": [
    "pm.add_portfolio(\"FTRADE\",3100)"
   ]
  },
  {
   "cell_type": "code",
   "execution_count": 5,
   "metadata": {},
   "outputs": [],
   "source": [
    "pm.add_shares_to(\"FTRADE\",\"RH\",4)\n",
    "pm.add_shares_to(\"FTRADE\",\"FFBC\",10)\n",
    "pm.add_shares_to(\"FTRADE\",\"YRD\",15)\n",
    "pm.add_shares_to(\"FTRADE\",\"CTRV\",6)\n",
    "pm.add_shares_to(\"FTRADE\",\"INTC\",16)\n"
   ]
  },
  {
   "cell_type": "code",
   "execution_count": 6,
   "metadata": {
    "collapsed": true
   },
   "outputs": [],
   "source": [
    "p = pm.portfolios[\"FTRADE\"]"
   ]
  },
  {
   "cell_type": "code",
   "execution_count": 7,
   "metadata": {},
   "outputs": [],
   "source": [
    "pm.cnow()\n",
    "pm.check_work()"
   ]
  },
  {
   "cell_type": "code",
   "execution_count": 8,
   "metadata": {
    "collapsed": true
   },
   "outputs": [],
   "source": [
    "gmta.one_trade_per_day_with_quandl_and_robinhood(pm,\"FTRADE\")"
   ]
  },
  {
   "cell_type": "code",
   "execution_count": 9,
   "metadata": {},
   "outputs": [
    {
     "data": {
      "text/plain": [
       "{'BRK.B': 27, 'CTRV': 7.0, 'FFBC': 9.0, 'INTC': 20, 'RH': 6.0, 'YRD': 13.0}"
      ]
     },
     "execution_count": 9,
     "metadata": {},
     "output_type": "execute_result"
    }
   ],
   "source": [
    "pm.unassigned_shares"
   ]
  },
  {
   "cell_type": "code",
   "execution_count": 32,
   "metadata": {},
   "outputs": [
    {
     "ename": "AttributeError",
     "evalue": "'PortfolioMgr' object has no attribute 'quit'",
     "output_type": "error",
     "traceback": [
      "\u001b[0;31m---------------------------------------------------------------------------\u001b[0m",
      "\u001b[0;31mAttributeError\u001b[0m                            Traceback (most recent call last)",
      "\u001b[0;32m<ipython-input-32-94cf494858a4>\u001b[0m in \u001b[0;36m<module>\u001b[0;34m()\u001b[0m\n\u001b[0;32m----> 1\u001b[0;31m \u001b[0mpm\u001b[0m\u001b[0;34m.\u001b[0m\u001b[0mquit\u001b[0m\u001b[0;34m(\u001b[0m\u001b[0;34m)\u001b[0m\u001b[0;34m\u001b[0m\u001b[0m\n\u001b[0m",
      "\u001b[0;31mAttributeError\u001b[0m: 'PortfolioMgr' object has no attribute 'quit'"
     ]
    }
   ],
   "source": [
    "pm.dnow()\n",
    "pm.working_now = False\n",
    "pm.working_cv.acquire()\n",
    "self.working_cv.notifyAll()\n",
    "self.working_cv.release()\n",
    "for t in self.join_pool:\n",
    "    t.join()"
   ]
  },
  {
   "cell_type": "code",
   "execution_count": 30,
   "metadata": {},
   "outputs": [],
   "source": [
    "!mkdir REALTRADENOW"
   ]
  }
 ],
 "metadata": {
  "kernelspec": {
   "display_name": "Python 3",
   "language": "python",
   "name": "python3"
  },
  "language_info": {
   "codemirror_mode": {
    "name": "ipython",
    "version": 3
   },
   "file_extension": ".py",
   "mimetype": "text/x-python",
   "name": "python",
   "nbconvert_exporter": "python",
   "pygments_lexer": "ipython3",
   "version": "3.6.1"
  }
 },
 "nbformat": 4,
 "nbformat_minor": 2
}
