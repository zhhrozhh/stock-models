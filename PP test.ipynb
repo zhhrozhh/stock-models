{
 "cells": [
  {
   "cell_type": "code",
   "execution_count": 1,
   "metadata": {
    "collapsed": true
   },
   "outputs": [],
   "source": [
    "from Portfolio import PortfolioMgr\n",
    "import inspect"
   ]
  },
  {
   "cell_type": "code",
   "execution_count": 2,
   "metadata": {
    "scrolled": true
   },
   "outputs": [],
   "source": [
    "mgr = PortfolioMgr('hang2','zhhISbest2',\"Default\")\n",
    "total_bp = mgr.get_bp_owned()\n",
    "\n",
    "mgr.add_portfolio(name = 'First',ini_bp = total_bp * 0.01)\n",
    "\n",
    "assert abs(mgr.portfolios['First'].bp - total_bp * 0.01) < 1e-5\n",
    "\n",
    "mgr.portfolios['First'].bp = total_bp*0.02\n",
    "\n",
    "mgr.update_allocatable_buying_power()\n",
    "\n",
    "assert abs(mgr.unassigned_bp - total_bp*0.98) < 1e-5\n",
    "\n",
    "mgr.add_bp_to(\"First\",total_bp*0.01)\n",
    "\n",
    "assert abs(mgr.portfolios['First'].bp - total_bp*0.03)<1e-5\n",
    "assert abs(mgr.unassigned_bp - total_bp*0.97)<1e-5\n",
    "oss = mgr.get_securities_owned()\n",
    "if not len(oss):\n",
    "    raise Exception(\"No shares to test, please add at least one stock to your account\")\n",
    "scode = list(oss.keys())[0]\n",
    "iniv = oss[scode]\n",
    "\n",
    "mgr.add_shares_to(\"First\",scode,1)\n",
    "assert mgr.portfolios[\"First\"].shares_owned(scode) == 1\n",
    "assert mgr.unassigned_shares[scode] == iniv-1\n",
    "mgr.draw_bp_from(\"First\",total_bp*0.01)\n",
    "assert abs(mgr.portfolios['First'].bp - total_bp*0.02)<1e-5\n",
    "assert abs(mgr.unassigned_bp - total_bp*0.98)<1e-5\n",
    "mgr.draw_shares_from(\"First\",scode,1)\n",
    "assert mgr.portfolios[\"First\"].shares_owned(scode) == 0\n",
    "\n",
    "mgr.add_portfolio(name = 'Second',ini_bp = total_bp * 0.03)\n",
    "mgr.transfer_bp('Second','First',0.005*total_bp)\n",
    "assert abs(mgr.portfolios[\"First\"].bp-0.025*total_bp)<1e-5\n",
    "assert abs(mgr.portfolios[\"Second\"].bp-0.025*total_bp)<1e-5\n",
    "\n",
    "mgr.add_shares_to('Second',scode,1)\n",
    "mgr.transfer_shares('Second','First',scode,1)\n",
    "assert mgr.portfolios['Second'].shares_owned(scode) == 0\n",
    "assert mgr.portfolios['First'].shares_owned(scode) == 1"
   ]
  },
  {
   "cell_type": "code",
   "execution_count": 3,
   "metadata": {},
   "outputs": [
    {
     "data": {
      "text/html": [
       "<div>\n",
       "<style>\n",
       "    .dataframe thead tr:only-child th {\n",
       "        text-align: right;\n",
       "    }\n",
       "\n",
       "    .dataframe thead th {\n",
       "        text-align: left;\n",
       "    }\n",
       "\n",
       "    .dataframe tbody tr th {\n",
       "        vertical-align: top;\n",
       "    }\n",
       "</style>\n",
       "<table border=\"1\" class=\"dataframe\">\n",
       "  <thead>\n",
       "    <tr style=\"text-align: right;\">\n",
       "      <th></th>\n",
       "      <th>SIDE</th>\n",
       "      <th>SCODE</th>\n",
       "      <th>PRICE</th>\n",
       "      <th>AMOUNT</th>\n",
       "      <th>ORDER_TYPE</th>\n",
       "    </tr>\n",
       "  </thead>\n",
       "  <tbody>\n",
       "    <tr>\n",
       "      <th>2018-01-12 14:36:14.842693</th>\n",
       "      <td>None</td>\n",
       "      <td>None</td>\n",
       "      <td>45.6226</td>\n",
       "      <td>1</td>\n",
       "      <td>add bp</td>\n",
       "    </tr>\n",
       "    <tr>\n",
       "      <th>2018-01-12 14:36:15.909838</th>\n",
       "      <td>None</td>\n",
       "      <td>BRK.B</td>\n",
       "      <td>None</td>\n",
       "      <td>1</td>\n",
       "      <td>add share</td>\n",
       "    </tr>\n",
       "    <tr>\n",
       "      <th>2018-01-12 14:36:15.921707</th>\n",
       "      <td>None</td>\n",
       "      <td>None</td>\n",
       "      <td>45.6226</td>\n",
       "      <td>1</td>\n",
       "      <td>draw bp</td>\n",
       "    </tr>\n",
       "    <tr>\n",
       "      <th>2018-01-12 14:36:15.934484</th>\n",
       "      <td>None</td>\n",
       "      <td>BRK.B</td>\n",
       "      <td>None</td>\n",
       "      <td>1</td>\n",
       "      <td>draw share</td>\n",
       "    </tr>\n",
       "    <tr>\n",
       "      <th>2018-01-12 14:36:16.982339</th>\n",
       "      <td>None</td>\n",
       "      <td>BRK.B</td>\n",
       "      <td>194.872</td>\n",
       "      <td>1</td>\n",
       "      <td>transfer in</td>\n",
       "    </tr>\n",
       "  </tbody>\n",
       "</table>\n",
       "</div>"
      ],
      "text/plain": [
       "                            SIDE  SCODE    PRICE AMOUNT   ORDER_TYPE\n",
       "2018-01-12 14:36:14.842693  None   None  45.6226      1       add bp\n",
       "2018-01-12 14:36:15.909838  None  BRK.B     None      1    add share\n",
       "2018-01-12 14:36:15.921707  None   None  45.6226      1      draw bp\n",
       "2018-01-12 14:36:15.934484  None  BRK.B     None      1   draw share\n",
       "2018-01-12 14:36:16.982339  None  BRK.B  194.872      1  transfer in"
      ]
     },
     "execution_count": 3,
     "metadata": {},
     "output_type": "execute_result"
    }
   ],
   "source": [
    "mgr.portfolios['First'].trading_record"
   ]
  },
  {
   "cell_type": "code",
   "execution_count": 4,
   "metadata": {},
   "outputs": [
    {
     "data": {
      "text/html": [
       "<div>\n",
       "<style>\n",
       "    .dataframe thead tr:only-child th {\n",
       "        text-align: right;\n",
       "    }\n",
       "\n",
       "    .dataframe thead th {\n",
       "        text-align: left;\n",
       "    }\n",
       "\n",
       "    .dataframe tbody tr th {\n",
       "        vertical-align: top;\n",
       "    }\n",
       "</style>\n",
       "<table border=\"1\" class=\"dataframe\">\n",
       "  <thead>\n",
       "    <tr style=\"text-align: right;\">\n",
       "      <th></th>\n",
       "      <th>SIDE</th>\n",
       "      <th>SCODE</th>\n",
       "      <th>PRICE</th>\n",
       "      <th>AMOUNT</th>\n",
       "      <th>ORDER_TYPE</th>\n",
       "    </tr>\n",
       "  </thead>\n",
       "  <tbody>\n",
       "    <tr>\n",
       "      <th>2018-01-12 14:36:16.979131</th>\n",
       "      <td>None</td>\n",
       "      <td>BRK.B</td>\n",
       "      <td>None</td>\n",
       "      <td>1</td>\n",
       "      <td>add share</td>\n",
       "    </tr>\n",
       "    <tr>\n",
       "      <th>2018-01-12 14:36:16.984088</th>\n",
       "      <td>None</td>\n",
       "      <td>BRK.B</td>\n",
       "      <td>194.872</td>\n",
       "      <td>1</td>\n",
       "      <td>transfer out</td>\n",
       "    </tr>\n",
       "  </tbody>\n",
       "</table>\n",
       "</div>"
      ],
      "text/plain": [
       "                            SIDE  SCODE    PRICE AMOUNT    ORDER_TYPE\n",
       "2018-01-12 14:36:16.979131  None  BRK.B     None      1     add share\n",
       "2018-01-12 14:36:16.984088  None  BRK.B  194.872      1  transfer out"
      ]
     },
     "execution_count": 4,
     "metadata": {},
     "output_type": "execute_result"
    }
   ],
   "source": [
    "mgr.portfolios['Second'].trading_record"
   ]
  },
  {
   "cell_type": "code",
   "execution_count": 14,
   "metadata": {},
   "outputs": [
    {
     "data": {
      "text/html": [
       "<div>\n",
       "<style>\n",
       "    .dataframe thead tr:only-child th {\n",
       "        text-align: right;\n",
       "    }\n",
       "\n",
       "    .dataframe thead th {\n",
       "        text-align: left;\n",
       "    }\n",
       "\n",
       "    .dataframe tbody tr th {\n",
       "        vertical-align: top;\n",
       "    }\n",
       "</style>\n",
       "<table border=\"1\" class=\"dataframe\">\n",
       "  <thead>\n",
       "    <tr style=\"text-align: right;\">\n",
       "      <th></th>\n",
       "      <th>0</th>\n",
       "      <th>1</th>\n",
       "      <th>2</th>\n",
       "    </tr>\n",
       "  </thead>\n",
       "  <tbody>\n",
       "    <tr>\n",
       "      <th>b</th>\n",
       "      <td>1</td>\n",
       "      <td>35</td>\n",
       "      <td>5</td>\n",
       "    </tr>\n",
       "  </tbody>\n",
       "</table>\n",
       "</div>"
      ],
      "text/plain": [
       "   0   1  2\n",
       "b  1  35  5"
      ]
     },
     "execution_count": 14,
     "metadata": {},
     "output_type": "execute_result"
    }
   ],
   "source": [
    "a.drop('a')"
   ]
  },
  {
   "cell_type": "code",
   "execution_count": 15,
   "metadata": {},
   "outputs": [
    {
     "data": {
      "text/html": [
       "<div>\n",
       "<style>\n",
       "    .dataframe thead tr:only-child th {\n",
       "        text-align: right;\n",
       "    }\n",
       "\n",
       "    .dataframe thead th {\n",
       "        text-align: left;\n",
       "    }\n",
       "\n",
       "    .dataframe tbody tr th {\n",
       "        vertical-align: top;\n",
       "    }\n",
       "</style>\n",
       "<table border=\"1\" class=\"dataframe\">\n",
       "  <thead>\n",
       "    <tr style=\"text-align: right;\">\n",
       "      <th></th>\n",
       "      <th>0</th>\n",
       "      <th>1</th>\n",
       "      <th>2</th>\n",
       "    </tr>\n",
       "  </thead>\n",
       "  <tbody>\n",
       "    <tr>\n",
       "      <th>a</th>\n",
       "      <td>0</td>\n",
       "      <td>23</td>\n",
       "      <td>1</td>\n",
       "    </tr>\n",
       "    <tr>\n",
       "      <th>b</th>\n",
       "      <td>1</td>\n",
       "      <td>35</td>\n",
       "      <td>5</td>\n",
       "    </tr>\n",
       "  </tbody>\n",
       "</table>\n",
       "</div>"
      ],
      "text/plain": [
       "   0   1  2\n",
       "a  0  23  1\n",
       "b  1  35  5"
      ]
     },
     "execution_count": 15,
     "metadata": {},
     "output_type": "execute_result"
    }
   ],
   "source": [
    "a"
   ]
  },
  {
   "cell_type": "code",
   "execution_count": 4,
   "metadata": {},
   "outputs": [
    {
     "data": {
      "text/html": [
       "<div>\n",
       "<style>\n",
       "    .dataframe thead tr:only-child th {\n",
       "        text-align: right;\n",
       "    }\n",
       "\n",
       "    .dataframe thead th {\n",
       "        text-align: left;\n",
       "    }\n",
       "\n",
       "    .dataframe tbody tr th {\n",
       "        vertical-align: top;\n",
       "    }\n",
       "</style>\n",
       "<table border=\"1\" class=\"dataframe\">\n",
       "  <thead>\n",
       "    <tr style=\"text-align: right;\">\n",
       "      <th></th>\n",
       "      <th>AVG_COST</th>\n",
       "      <th>SHARES</th>\n",
       "    </tr>\n",
       "  </thead>\n",
       "  <tbody>\n",
       "  </tbody>\n",
       "</table>\n",
       "</div>"
      ],
      "text/plain": [
       "Empty DataFrame\n",
       "Columns: [AVG_COST, SHARES]\n",
       "Index: []"
      ]
     },
     "execution_count": 4,
     "metadata": {},
     "output_type": "execute_result"
    }
   ],
   "source": [
    "mgr.portfolios[\"First\"].portfolio_record"
   ]
  }
 ],
 "metadata": {
  "kernelspec": {
   "display_name": "Python 3",
   "language": "python",
   "name": "python3"
  },
  "language_info": {
   "codemirror_mode": {
    "name": "ipython",
    "version": 3
   },
   "file_extension": ".py",
   "mimetype": "text/x-python",
   "name": "python",
   "nbconvert_exporter": "python",
   "pygments_lexer": "ipython3",
   "version": "3.6.1"
  }
 },
 "nbformat": 4,
 "nbformat_minor": 2
}
